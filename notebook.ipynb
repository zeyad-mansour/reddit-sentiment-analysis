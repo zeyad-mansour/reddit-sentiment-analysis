{
 "cells": [
  {
   "cell_type": "markdown",
   "id": "da6fa3fb-389a-4879-a756-389e64959609",
   "metadata": {
    "jp-MarkdownHeadingCollapsed": true,
    "tags": []
   },
   "source": [
    "<center>\n",
    "<h1>\n",
    "Analyzing the Sentiment of Online Substance Abuse Support Groups During the\n",
    "COVID-19 Pandemic via Natural Language Processing\n",
    "</h1>\n",
    "<h5>\n",
    "By <a href=\"https://zeyadmansour.com\">Zeyad Mansour</a> \n",
    "</h5>\n",
    "<h5> \n",
    "<a href=\"https://www.google.com\">Read the paper</a>\n",
    "</h5>\n",
    "</center>"
   ]
  },
  {
   "cell_type": "markdown",
   "id": "c23592c0-3b76-4b46-b197-81bc6aa84f2c",
   "metadata": {
    "tags": []
   },
   "source": [
    "# 1 Scraping / Data Collection"
   ]
  },
  {
   "cell_type": "markdown",
   "id": "154395f0-dd0c-4795-b658-0dcffcd32776",
   "metadata": {
    "tags": []
   },
   "source": [
    "## 1.1 Installing dependencies and importing those for scraping"
   ]
  },
  {
   "cell_type": "markdown",
   "id": "8b3df9bc-0315-4ca3-a217-e8cdcb7b5f99",
   "metadata": {},
   "source": [
    "<p> Although not shown here, it is recommended that the following packages are installed in a conda virtual environment. The jupyter kernel also must be installed in the environment. </p>"
   ]
  },
  {
   "cell_type": "code",
   "execution_count": 1,
   "id": "93b5eb0c-4f96-41bf-9777-4333196138c3",
   "metadata": {},
   "outputs": [
    {
     "name": "stdout",
     "output_type": "stream",
     "text": [
      "Looking in links: https://download.pytorch.org/whl/cu113\n",
      "Requirement already satisfied: matplotlib in /home/zeyad/.local/lib/python3.8/site-packages (from -r requirements.txt (line 1)) (3.5.1)\n",
      "Requirement already satisfied: nltk in /home/zeyad/.local/lib/python3.8/site-packages (from -r requirements.txt (line 2)) (3.5)\n",
      "Requirement already satisfied: pandas in /home/zeyad/.local/lib/python3.8/site-packages (from -r requirements.txt (line 3)) (1.3.2)\n",
      "Requirement already satisfied: praw in /home/zeyad/.local/lib/python3.8/site-packages (from -r requirements.txt (line 4)) (7.5.0)\n",
      "Requirement already satisfied: psaw in /home/zeyad/.local/lib/python3.8/site-packages (from -r requirements.txt (line 5)) (0.1.0)\n",
      "Requirement already satisfied: scipy in /home/zeyad/.local/lib/python3.8/site-packages (from -r requirements.txt (line 6)) (1.8.0)\n",
      "Requirement already satisfied: torch in /home/zeyad/.local/lib/python3.8/site-packages (from -r requirements.txt (line 9)) (1.11.0+cu113)\n",
      "Requirement already satisfied: torchvision in /home/zeyad/.local/lib/python3.8/site-packages (from -r requirements.txt (line 10)) (0.12.0+cu113)\n",
      "Requirement already satisfied: torchaudio in /home/zeyad/.local/lib/python3.8/site-packages (from -r requirements.txt (line 11)) (0.11.0+cu113)\n",
      "Requirement already satisfied: transformers in /home/zeyad/.local/lib/python3.8/site-packages (from -r requirements.txt (line 13)) (4.17.0)\n",
      "Requirement already satisfied: kiwisolver>=1.0.1 in /home/zeyad/.local/lib/python3.8/site-packages (from matplotlib->-r requirements.txt (line 1)) (1.3.2)\n",
      "Requirement already satisfied: python-dateutil>=2.7 in /home/zeyad/.local/lib/python3.8/site-packages (from matplotlib->-r requirements.txt (line 1)) (2.8.2)\n",
      "Requirement already satisfied: cycler>=0.10 in /home/zeyad/.local/lib/python3.8/site-packages (from matplotlib->-r requirements.txt (line 1)) (0.11.0)\n",
      "Requirement already satisfied: pillow>=6.2.0 in /home/zeyad/.local/lib/python3.8/site-packages (from matplotlib->-r requirements.txt (line 1)) (9.0.1)\n",
      "Requirement already satisfied: pyparsing>=2.2.1 in /home/zeyad/.local/lib/python3.8/site-packages (from matplotlib->-r requirements.txt (line 1)) (2.4.7)\n",
      "Requirement already satisfied: packaging>=20.0 in /home/zeyad/.local/lib/python3.8/site-packages (from matplotlib->-r requirements.txt (line 1)) (21.0)\n",
      "Requirement already satisfied: numpy>=1.17 in /home/zeyad/.local/lib/python3.8/site-packages (from matplotlib->-r requirements.txt (line 1)) (1.22.3)\n",
      "Requirement already satisfied: fonttools>=4.22.0 in /home/zeyad/.local/lib/python3.8/site-packages (from matplotlib->-r requirements.txt (line 1)) (4.29.1)\n",
      "Requirement already satisfied: tqdm in /home/zeyad/.local/lib/python3.8/site-packages (from nltk->-r requirements.txt (line 2)) (4.62.2)\n",
      "Requirement already satisfied: regex in /home/zeyad/.local/lib/python3.8/site-packages (from nltk->-r requirements.txt (line 2)) (2021.8.28)\n",
      "Requirement already satisfied: joblib in /home/zeyad/.local/lib/python3.8/site-packages (from nltk->-r requirements.txt (line 2)) (1.0.1)\n",
      "Requirement already satisfied: click in /home/zeyad/.local/lib/python3.8/site-packages (from nltk->-r requirements.txt (line 2)) (7.1.2)\n",
      "Requirement already satisfied: pytz>=2017.3 in /home/zeyad/.local/lib/python3.8/site-packages (from pandas->-r requirements.txt (line 3)) (2021.3)\n",
      "Requirement already satisfied: prawcore<3,>=2.1 in /home/zeyad/.local/lib/python3.8/site-packages (from praw->-r requirements.txt (line 4)) (2.3.0)\n",
      "Requirement already satisfied: websocket-client>=0.54.0 in /home/zeyad/.local/lib/python3.8/site-packages (from praw->-r requirements.txt (line 4)) (1.3.2)\n",
      "Requirement already satisfied: update-checker>=0.18 in /home/zeyad/.local/lib/python3.8/site-packages (from praw->-r requirements.txt (line 4)) (0.18.0)\n",
      "Requirement already satisfied: requests in /home/zeyad/.local/lib/python3.8/site-packages (from psaw->-r requirements.txt (line 5)) (2.25.1)\n",
      "Requirement already satisfied: typing-extensions in /home/zeyad/.local/lib/python3.8/site-packages (from torch->-r requirements.txt (line 9)) (4.1.1)\n",
      "Requirement already satisfied: sacremoses in /home/zeyad/.local/lib/python3.8/site-packages (from transformers->-r requirements.txt (line 13)) (0.0.49)\n",
      "Requirement already satisfied: huggingface-hub<1.0,>=0.1.0 in /home/zeyad/.local/lib/python3.8/site-packages (from transformers->-r requirements.txt (line 13)) (0.4.0)\n",
      "Requirement already satisfied: filelock in /home/zeyad/.local/lib/python3.8/site-packages (from transformers->-r requirements.txt (line 13)) (3.0.12)\n",
      "Requirement already satisfied: pyyaml>=5.1 in /usr/lib/python3/dist-packages (from transformers->-r requirements.txt (line 13)) (5.3.1)\n",
      "Requirement already satisfied: tokenizers!=0.11.3,>=0.11.1 in /home/zeyad/.local/lib/python3.8/site-packages (from transformers->-r requirements.txt (line 13)) (0.11.6)\n",
      "Requirement already satisfied: six>=1.5 in /home/zeyad/.local/lib/python3.8/site-packages (from python-dateutil>=2.7->matplotlib->-r requirements.txt (line 1)) (1.15.0)\n",
      "Requirement already satisfied: idna<3,>=2.5 in /home/zeyad/.local/lib/python3.8/site-packages (from requests->psaw->-r requirements.txt (line 5)) (2.10)\n",
      "Requirement already satisfied: certifi>=2017.4.17 in /home/zeyad/.local/lib/python3.8/site-packages (from requests->psaw->-r requirements.txt (line 5)) (2021.10.8)\n",
      "Requirement already satisfied: urllib3<1.27,>=1.21.1 in /home/zeyad/.local/lib/python3.8/site-packages (from requests->psaw->-r requirements.txt (line 5)) (1.26.9)\n",
      "Requirement already satisfied: chardet<5,>=3.0.2 in /home/zeyad/.local/lib/python3.8/site-packages (from requests->psaw->-r requirements.txt (line 5)) (4.0.0)\n"
     ]
    }
   ],
   "source": [
    "!pip install -r requirements.txt"
   ]
  },
  {
   "cell_type": "markdown",
   "id": "5c86dfd4-2c32-4dfa-9150-7a09b88aab4f",
   "metadata": {},
   "source": [
    "<hr>\n",
    "\n",
    "**PRAW (the Python Reddit API Wrapper)** allows us to obtain the current \"score\" of a post, which is the total number of upvotes minus the total number of downvotes. PRAW can be used in conjunction with PSAW, which lacks this functionality.\n",
    "\n",
    "**PSAW (the Python PushShift API Wrapper)** allows us to obtain historical posts, whereas PRAW does not have this functionality. PushShift is a third-party service that scrapes Reddit to provide \"enhanced functionality and search capabilities for searching Reddit comments and submissions.\" Their API is intended research purposes. Because PushShift scrapes posts only once — shortly after they are posted — the reported score is only accurate at the time they were scraped."
   ]
  },
  {
   "cell_type": "code",
   "execution_count": 2,
   "id": "ed42f5a5-a6dc-43da-b4cd-d8932f9fb910",
   "metadata": {},
   "outputs": [
    {
     "name": "stderr",
     "output_type": "stream",
     "text": [
      "[nltk_data] Downloading package stopwords to /home/zeyad/nltk_data...\n",
      "[nltk_data]   Package stopwords is already up-to-date!\n",
      "[nltk_data] Downloading package punkt to /home/zeyad/nltk_data...\n",
      "[nltk_data]   Package punkt is already up-to-date!\n"
     ]
    }
   ],
   "source": [
    "from calendar import monthrange\n",
    "from collections import Counter\n",
    "\n",
    "# the datetime object allows for easy chronological organization of the dataframe \n",
    "from datetime import datetime\n",
    "import json\n",
    "\n",
    "import nltk\n",
    "nltk.download('stopwords')\n",
    "nltk.download('punkt')\n",
    "\n",
    "from nltk.corpus import stopwords\n",
    "import matplotlib.pyplot as plt\n",
    "import numpy as np\n",
    "import os\n",
    "\n",
    "# the data retrieved from the API is stored in a pandas dataframe\n",
    "import pandas as pd\n",
    "\n",
    "# python wrapper for the official reddit api\n",
    "import praw \n",
    "\n",
    "# python wrapper for the pushshift api\n",
    "from psaw import PushshiftAPI \n",
    "\n",
    "import random\n",
    "import statistics\n",
    "import sys\n",
    "import time"
   ]
  },
  {
   "cell_type": "markdown",
   "id": "a10a871b-801c-4114-9e12-7e51e1022e44",
   "metadata": {
    "tags": []
   },
   "source": [
    "## 1.2 Authenticating with the Reddit API "
   ]
  },
  {
   "cell_type": "markdown",
   "id": "ea9cefcd-7371-4d3e-9fef-6926c289d857",
   "metadata": {},
   "source": [
    "In order to use the Reddit API, an account must be granted access. After agreeing to follow the ToS, a Reddit user can apply [here](https://docs.google.com/forms/d/e/1FAIpQLSezNdDNK1-P8mspSbmtC2r86Ee9ZRbC66u929cG2GX0T9UMyw/viewform).\n",
    "\n",
    "\n",
    "Then, we can authenticate with PRAW with the credentials that we provide in the [client_secrets.json](client_secrets.jsonclient_secrets.jsonclient_secrets.json) file."
   ]
  },
  {
   "cell_type": "code",
   "execution_count": 3,
   "id": "9094927d-0ccf-494c-9112-6b10e3d649f0",
   "metadata": {},
   "outputs": [],
   "source": [
    "# client_secrets.json file must be created to contain credentials\n",
    "# ex_client_secrets.json contains the example credentials format\n",
    "f = open('client_secrets.json') \n",
    " \n",
    "client_secrets = json.load(f)\n",
    "\n",
    "r = praw.Reddit(client_id=client_secrets[\"client_id\"],\n",
    "    client_secret=client_secrets[\"client_secret\"],\n",
    "    username=client_secrets[\"username\"],\n",
    "    password=client_secrets[\"password\"],\n",
    "    user_agent=client_secrets[\"user_agent\"]\n",
    ")\n",
    "\n",
    "api = PushshiftAPI(r)"
   ]
  },
  {
   "cell_type": "markdown",
   "id": "8b3a9d6b-9e10-4646-9da9-41149d26c402",
   "metadata": {},
   "source": [
    "## 1.3 Scraping via Requests to the API "
   ]
  },
  {
   "cell_type": "markdown",
   "id": "ea1ffc08-cf7a-45c7-b504-214a48d1a10d",
   "metadata": {},
   "source": [
    "We define a list of the subreddits that we want to scrape and initialize the appropriate time interval variables."
   ]
  },
  {
   "cell_type": "code",
   "execution_count": 4,
   "id": "71eb3383-45bb-4723-9102-24d345a3bce0",
   "metadata": {},
   "outputs": [],
   "source": [
    "subreddits = [\"addiction\", \"alcoholism\", \"benzorecovery\", \"leaves\", \"OpiatesRecovery\", \"quittingkratom\", \n",
    "              \"QuittingPhenibut\", \"redditorsinrecovery\",  \"StopDrinking\", \"StopSmoking\", \"StopSpeeding\"]  \n",
    "start_year = 2019\n",
    "start_month = 10\n",
    "end_year = 2022\n",
    "end_month = 2"
   ]
  },
  {
   "cell_type": "markdown",
   "id": "71d882b6-c7aa-4bc2-978a-41da8909944b",
   "metadata": {},
   "source": [
    "The following cell contains helper functions for future steps."
   ]
  },
  {
   "cell_type": "code",
   "execution_count": 5,
   "id": "fa0cd7ec-b343-4f04-a285-13aa37518692",
   "metadata": {},
   "outputs": [],
   "source": [
    "def save_posts_by_month(subreddit, year, month, limit=100000):\n",
    "    ''' \n",
    "    Scrapes and saves all posts from the specified subreddit to a CSV file\n",
    "    given a particular month in the \"year-month\" format\n",
    "    '''\n",
    "    num_days = monthrange(year, month)[1]\n",
    "    after=int(datetime(year, month, 1).timestamp())\n",
    "    before=int(datetime(year, month, num_days).timestamp()) \n",
    "    print(f\"Scraping posts from /r/{subreddit} [{year}, {month}]...\")\n",
    "    gen = api.search_submissions(after=after, before=before, subreddit=subreddit, limit=limit)\n",
    "    post_list = []\n",
    "    for e in gen:\n",
    "        submission = r.submission(e)\n",
    "        post_list.append({\"Date\": datetime.fromtimestamp(submission.created_utc), \"URL\": submission.url, \"Title\": submission.title, \"Body\": submission.selftext, \"Score\": submission.score})\n",
    "        \n",
    "    df = pd.DataFrame(post_list)\n",
    "    df.to_csv(f\"data/{subreddit}/{subreddit}_{year}-{month}.csv\", index = False, header = True)\n",
    "    \n",
    "def iter_months(start_year, start_month, end_year, end_month):\n",
    "    ''' \n",
    "    Yields the dates of months in the \"year-month\" format given time interval \n",
    "    '''   \n",
    "    while (start_year == end_year and start_month <= end_month) or (start_year < end_year):\n",
    "        if start_month < 12:\n",
    "            yield {\"year\":start_year, \"month\":start_month}\n",
    "            start_month += 1\n",
    "        else:\n",
    "            yield {\"year\":start_year, \"month\":start_month}\n",
    "            start_year += 1\n",
    "            start_month = 1"
   ]
  },
  {
   "cell_type": "markdown",
   "id": "d817c523-83ba-44ac-bd13-cd909148d5ae",
   "metadata": {},
   "source": [
    "We want to be able to permanently store the data that we scrape for future analysis. \n",
    "\n",
    "The scraping process can be lengthly due to rate limiting, and storing the data we get from the API in memory is bad practice when considering the likelihood of a crash. Therefore, for each subreddit, after each month of posts we scrape, we save the pandas dataframe to the disk (in the .csv file format)."
   ]
  },
  {
   "cell_type": "code",
   "execution_count": 6,
   "id": "3ec49066-c813-4802-9fd4-0e089c56870b",
   "metadata": {},
   "outputs": [
    {
     "name": "stdout",
     "output_type": "stream",
     "text": [
      "11 subreddits selected\n",
      "Directory 'data' already exists\n",
      "Directory 'data/addiction' already exists\n",
      "Directory 'data/alcoholism' already exists\n",
      "Directory 'data/benzorecovery' already exists\n",
      "Directory 'data/leaves' already exists\n",
      "Directory 'data/OpiatesRecovery' already exists\n",
      "Directory 'data/quittingkratom' already exists\n",
      "Directory 'data/QuittingPhenibut' already exists\n",
      "Directory 'data/redditorsinrecovery' already exists\n",
      "Directory 'data/StopDrinking' already exists\n",
      "Directory 'data/StopSmoking' already exists\n",
      "Directory 'data/StopSpeeding' already exists\n"
     ]
    }
   ],
   "source": [
    "def scrape_posts(subreddits, start_year, start_month, end_year, end_month):\n",
    "    print(f\"{len(subreddits)} subreddits selected\")\n",
    "\n",
    "    datadir = 'data'\n",
    "    try:\n",
    "        os.mkdir('data')\n",
    "        print(f\"Directory '{datadir}' was created\") \n",
    "    except FileExistsError:\n",
    "        print(f\"Directory '{datadir}' already exists\")\n",
    "        \n",
    "    for subreddit in subreddits:\n",
    "        datadir = f\"data/{subreddit}\"\n",
    "        try:\n",
    "            os.mkdir(datadir)\n",
    "            print(f\"Directory '{datadir}' was created\") \n",
    "        except FileExistsError:\n",
    "            print(f\"Directory '{datadir}' already exists\")\n",
    "            continue\n",
    "            \n",
    "        for date in iter_months(start_year, start_month, end_year, end_month):\n",
    "            save_posts_by_month(subreddit, date[\"year\"], date[\"month\"])\n",
    "       \n",
    "\n",
    "scrape_posts(subreddits, start_year, start_month, end_year, end_month)"
   ]
  },
  {
   "cell_type": "markdown",
   "id": "cf3fe399-f521-4c34-a30d-1fc3d532cd25",
   "metadata": {},
   "source": [
    "## 1.4 Data Preprocessing and Downsampling"
   ]
  },
  {
   "cell_type": "markdown",
   "id": "b2cc8acf-f059-4fe9-b77d-0e44bce9a8e8",
   "metadata": {},
   "source": [
    "Posts that were deleted, or contain little to no data, are still part of our data. We want to remove these from our dataset. To do this, we search each post for the keywords \"deleted\" or \"removed\" and remove those posts."
   ]
  },
  {
   "cell_type": "code",
   "execution_count": 7,
   "id": "e923464a-3c4d-4954-bfad-2835c2622f0a",
   "metadata": {},
   "outputs": [
    {
     "name": "stdout",
     "output_type": "stream",
     "text": [
      "Finished removing the posts that were either deleted or removed.\n"
     ]
    }
   ],
   "source": [
    "#Delete the posts that were either deleted or removed\n",
    "deleted_keywords = [\"deleted\", \"removed\"]\n",
    "\n",
    "for subreddit in subreddits: \n",
    "    for date in iter_months(start_year, start_month, end_year, end_month): \n",
    "        filename = f'data/{subreddit}/{subreddit}_{date[\"year\"]}-{date[\"month\"]}.csv'\n",
    "        indicies_to_delete = list()\n",
    "        df = pd.read_csv(filename) \n",
    "        for index, row in df.iterrows():\n",
    "            for e in deleted_keywords:\n",
    "                if e in str(row[\"Title\"]) or e in str(row[\"Body\"]):\n",
    "                    indicies_to_delete.append(index)\n",
    "                    \n",
    "        df = df.drop(labels=indicies_to_delete, axis=0)\n",
    "        df = df.reset_index()\n",
    "        df = df.drop(labels=\"index\", axis=1)\n",
    "        df.to_csv(filename, index=False)\n",
    "\n",
    "print(\"Finished removing the posts that were either deleted or removed.\")"
   ]
  },
  {
   "cell_type": "markdown",
   "id": "a728ab5b-01b1-4978-bc94-542b90b397f7",
   "metadata": {},
   "source": [
    "Now, we have our data stored via .csv files. We can then load this in a pandas dataframe to look at the data collected over the course of one month for a subreddit."
   ]
  },
  {
   "cell_type": "code",
   "execution_count": 8,
   "id": "dd8e9209-5e0e-42f1-a11d-e1d26d3ad716",
   "metadata": {},
   "outputs": [
    {
     "name": "stdout",
     "output_type": "stream",
     "text": [
      "data/addiction/addiction_2019-10.csv\n"
     ]
    },
    {
     "data": {
      "text/html": [
       "<div>\n",
       "<style scoped>\n",
       "    .dataframe tbody tr th:only-of-type {\n",
       "        vertical-align: middle;\n",
       "    }\n",
       "\n",
       "    .dataframe tbody tr th {\n",
       "        vertical-align: top;\n",
       "    }\n",
       "\n",
       "    .dataframe thead th {\n",
       "        text-align: right;\n",
       "    }\n",
       "</style>\n",
       "<table border=\"1\" class=\"dataframe\">\n",
       "  <thead>\n",
       "    <tr style=\"text-align: right;\">\n",
       "      <th></th>\n",
       "      <th>Date</th>\n",
       "      <th>URL</th>\n",
       "      <th>Title</th>\n",
       "      <th>Body</th>\n",
       "      <th>Score</th>\n",
       "    </tr>\n",
       "  </thead>\n",
       "  <tbody>\n",
       "    <tr>\n",
       "      <th>0</th>\n",
       "      <td>2019-10-30 22:35:14</td>\n",
       "      <td>https://www.reddit.com/r/addiction/comments/dp...</td>\n",
       "      <td>I'm committed to making a change...</td>\n",
       "      <td>Last week I came out to my wife and shared wit...</td>\n",
       "      <td>5</td>\n",
       "    </tr>\n",
       "    <tr>\n",
       "      <th>1</th>\n",
       "      <td>2019-10-30 22:16:46</td>\n",
       "      <td>https://www.reddit.com/r/addiction/comments/dp...</td>\n",
       "      <td>If I could use successfully forever, I would</td>\n",
       "      <td>I didn’t quit because it was the right thing t...</td>\n",
       "      <td>1</td>\n",
       "    </tr>\n",
       "    <tr>\n",
       "      <th>2</th>\n",
       "      <td>2019-10-30 19:04:33</td>\n",
       "      <td>https://www.reddit.com/r/addiction/comments/dp...</td>\n",
       "      <td>I'm wondering if it's a bad idea for an alcoho...</td>\n",
       "      <td>NaN</td>\n",
       "      <td>2</td>\n",
       "    </tr>\n",
       "    <tr>\n",
       "      <th>3</th>\n",
       "      <td>2019-10-30 18:35:13</td>\n",
       "      <td>https://www.reddit.com/r/addiction/comments/dp...</td>\n",
       "      <td>Septum Hole Question</td>\n",
       "      <td>Throwaway. Could really use some help here.\\n\\...</td>\n",
       "      <td>1</td>\n",
       "    </tr>\n",
       "    <tr>\n",
       "      <th>4</th>\n",
       "      <td>2019-10-30 14:57:27</td>\n",
       "      <td>https://www.reddit.com/r/addiction/comments/dp...</td>\n",
       "      <td>My sister (13) is using drugs</td>\n",
       "      <td>It says it in the title, my sister is getting ...</td>\n",
       "      <td>1</td>\n",
       "    </tr>\n",
       "    <tr>\n",
       "      <th>...</th>\n",
       "      <td>...</td>\n",
       "      <td>...</td>\n",
       "      <td>...</td>\n",
       "      <td>...</td>\n",
       "      <td>...</td>\n",
       "    </tr>\n",
       "    <tr>\n",
       "      <th>277</th>\n",
       "      <td>2019-10-01 09:39:39</td>\n",
       "      <td>https://www.reddit.com/r/addiction/comments/db...</td>\n",
       "      <td>Day 2 sober</td>\n",
       "      <td>Yesterday was my first day sober in years I fe...</td>\n",
       "      <td>4</td>\n",
       "    </tr>\n",
       "    <tr>\n",
       "      <th>278</th>\n",
       "      <td>2019-10-01 09:00:43</td>\n",
       "      <td>https://www.reddit.com/r/addiction/comments/db...</td>\n",
       "      <td>Leading to a habit or just being a pig ?</td>\n",
       "      <td>Last few months I’ve been hitting speed or mdm...</td>\n",
       "      <td>2</td>\n",
       "    </tr>\n",
       "    <tr>\n",
       "      <th>279</th>\n",
       "      <td>2019-10-01 06:14:51</td>\n",
       "      <td>https://www.reddit.com/r/addiction/comments/db...</td>\n",
       "      <td>110 days sober until today</td>\n",
       "      <td>Stress. Idk what to say. Thought I had it this...</td>\n",
       "      <td>11</td>\n",
       "    </tr>\n",
       "    <tr>\n",
       "      <th>280</th>\n",
       "      <td>2019-10-01 02:16:04</td>\n",
       "      <td>https://www.reddit.com/r/cocaine/comments/dbmn...</td>\n",
       "      <td>Today I shot up WAY too much cocaine and I got...</td>\n",
       "      <td>NaN</td>\n",
       "      <td>2</td>\n",
       "    </tr>\n",
       "    <tr>\n",
       "      <th>281</th>\n",
       "      <td>2019-10-01 00:20:55</td>\n",
       "      <td>https://www.reddit.com/r/addiction/comments/db...</td>\n",
       "      <td>Interested in Inpatient facilities / success s...</td>\n",
       "      <td>I am looking into inpatient facilities to atte...</td>\n",
       "      <td>1</td>\n",
       "    </tr>\n",
       "  </tbody>\n",
       "</table>\n",
       "<p>282 rows × 5 columns</p>\n",
       "</div>"
      ],
      "text/plain": [
       "                    Date                                                URL  \\\n",
       "0    2019-10-30 22:35:14  https://www.reddit.com/r/addiction/comments/dp...   \n",
       "1    2019-10-30 22:16:46  https://www.reddit.com/r/addiction/comments/dp...   \n",
       "2    2019-10-30 19:04:33  https://www.reddit.com/r/addiction/comments/dp...   \n",
       "3    2019-10-30 18:35:13  https://www.reddit.com/r/addiction/comments/dp...   \n",
       "4    2019-10-30 14:57:27  https://www.reddit.com/r/addiction/comments/dp...   \n",
       "..                   ...                                                ...   \n",
       "277  2019-10-01 09:39:39  https://www.reddit.com/r/addiction/comments/db...   \n",
       "278  2019-10-01 09:00:43  https://www.reddit.com/r/addiction/comments/db...   \n",
       "279  2019-10-01 06:14:51  https://www.reddit.com/r/addiction/comments/db...   \n",
       "280  2019-10-01 02:16:04  https://www.reddit.com/r/cocaine/comments/dbmn...   \n",
       "281  2019-10-01 00:20:55  https://www.reddit.com/r/addiction/comments/db...   \n",
       "\n",
       "                                                 Title  \\\n",
       "0                  I'm committed to making a change...   \n",
       "1         If I could use successfully forever, I would   \n",
       "2    I'm wondering if it's a bad idea for an alcoho...   \n",
       "3                                 Septum Hole Question   \n",
       "4                        My sister (13) is using drugs   \n",
       "..                                                 ...   \n",
       "277                                        Day 2 sober   \n",
       "278           Leading to a habit or just being a pig ?   \n",
       "279                         110 days sober until today   \n",
       "280  Today I shot up WAY too much cocaine and I got...   \n",
       "281  Interested in Inpatient facilities / success s...   \n",
       "\n",
       "                                                  Body  Score  \n",
       "0    Last week I came out to my wife and shared wit...      5  \n",
       "1    I didn’t quit because it was the right thing t...      1  \n",
       "2                                                  NaN      2  \n",
       "3    Throwaway. Could really use some help here.\\n\\...      1  \n",
       "4    It says it in the title, my sister is getting ...      1  \n",
       "..                                                 ...    ...  \n",
       "277  Yesterday was my first day sober in years I fe...      4  \n",
       "278  Last few months I’ve been hitting speed or mdm...      2  \n",
       "279  Stress. Idk what to say. Thought I had it this...     11  \n",
       "280                                                NaN      2  \n",
       "281  I am looking into inpatient facilities to atte...      1  \n",
       "\n",
       "[282 rows x 5 columns]"
      ]
     },
     "metadata": {},
     "output_type": "display_data"
    }
   ],
   "source": [
    "filename = f'data/{subreddits[0]}/{subreddits[0]}_{start_year}-{start_month}.csv'\n",
    "df = pd.read_csv(filename) \n",
    "print(filename)\n",
    "display(df)"
   ]
  },
  {
   "cell_type": "markdown",
   "id": "80e450bf-91ab-48f8-b4de-928d2a05eadd",
   "metadata": {},
   "source": [
    "<hr>\n",
    "\n",
    "# 2 Trend Analysis"
   ]
  },
  {
   "cell_type": "markdown",
   "id": "5527fd87-5e93-497c-b10e-aa7267f5fabf",
   "metadata": {},
   "source": [
    "Here, we do some exploratory analysis."
   ]
  },
  {
   "cell_type": "code",
   "execution_count": 9,
   "id": "a45bf9cb-eb13-4542-bfab-4e1f9d3be0db",
   "metadata": {},
   "outputs": [
    {
     "data": {
      "image/png": "[encoded data removed]",
      "text/plain": [
       "<Figure size 640x480 with 1 Axes>"
      ]
     },
     "metadata": {},
     "output_type": "display_data"
    }
   ],
   "source": [
    "plt.style.use('default')\n",
    "\n",
    "#Only plot one subreddit since this is for demonstration\n",
    "for subreddit in [\"addiction\"]: \n",
    "    dates = list()\n",
    "    scores_stat = list()\n",
    "    for date in iter_months(start_year, start_month, end_year, end_month): \n",
    "        score_list = list()\n",
    "        df = pd.read_csv(f'data/{subreddit}/{subreddit}_{date[\"year\"]}-{date[\"month\"]}.csv')\n",
    "        for index, row in df.iterrows():\n",
    "            score_list.append(row[\"Score\"])\n",
    "        scores_stat.append(sum(score_list))\n",
    "        dates.append(f'{date[\"year\"]}-{date[\"month\"]}')             \n",
    "    x = dates\n",
    "    y = scores_stat\n",
    "    plt.xticks(rotation=90)\n",
    "    plt.xlabel('Date')\n",
    "    plt.ylabel('Total Upvote Score')\n",
    "    plt.title(f'Total Upvote Score of /r/{subreddit}')\n",
    "    plt.ylim(ymin=0, ymax = max(y)*1.5)\n",
    "    plt.plot(x, y, color='black');\n",
    "    plt.show()"
   ]
  },
  {
   "cell_type": "code",
   "execution_count": 10,
   "id": "c006d148-e0d1-4874-a07a-74687da77429",
   "metadata": {},
   "outputs": [
    {
     "data": {
      "image/png": "[encoded data removed]",
      "text/plain": [
       "<Figure size 640x480 with 1 Axes>"
      ]
     },
     "metadata": {},
     "output_type": "display_data"
    }
   ],
   "source": [
    "stopwords_set = stopwords.words('english')\n",
    "\n",
    "def wordBarGraph(df,column,title):\n",
    "    topic_words = [ z.lower() for y in\n",
    "                       [ x.split() for x in df[column] if isinstance(x, str)]\n",
    "                       for z in y]\n",
    "    word_count_dict = dict(Counter(topic_words))\n",
    "    popular_words = sorted(word_count_dict, key = word_count_dict.get, reverse = True)\n",
    "    popular_words_nonstop = [w for w in popular_words if w not in stopwords_set and w.isalnum()]\n",
    "    plt.barh(range(20), [word_count_dict[w] for w in reversed(popular_words_nonstop[0:20])])\n",
    "    plt.yticks([x + 0.5 for x in range(20)], reversed(popular_words_nonstop[0:20]))\n",
    "    plt.title(title)\n",
    "    plt.show()\n",
    "    \n",
    "#Only plot one subreddit since this is for demonstration    \n",
    "for subreddit in [\"addiction\"]: \n",
    "    #Only plot one month since this is for demonstration\n",
    "    for date in iter_months(start_year, start_month, start_year, start_month): \n",
    "        df = pd.read_csv(f'data/{subreddit}/{subreddit}_{date[\"year\"]}-{date[\"month\"]}.csv')\n",
    "        plt.figure()\n",
    "        wordBarGraph(df,'Title',f\"Popular Words in /r/{subreddit} during {date['year']}-{date['month']}\")"
   ]
  },
  {
   "cell_type": "markdown",
   "id": "59e9d682-2942-4ce0-b75c-c394e4be5602",
   "metadata": {},
   "source": [
    "We define a list of COVID-19 related tokens to see how mention of COVID-19 has varied overtime."
   ]
  },
  {
   "cell_type": "code",
   "execution_count": 11,
   "id": "4cfe1954-c885-4d81-9ad1-bdda019a56db",
   "metadata": {},
   "outputs": [],
   "source": [
    "#TODO"
   ]
  },
  {
   "cell_type": "markdown",
   "id": "37fd3917-bbf7-445d-9ae2-4499b172273f",
   "metadata": {
    "tags": []
   },
   "source": [
    "<hr>\n",
    "\n",
    "# 3 Sentiment Analysis and Classification"
   ]
  },
  {
   "cell_type": "markdown",
   "id": "725bffee-aea6-405f-82bc-d1c0f0e3bbdd",
   "metadata": {},
   "source": [
    "Transformer models, such as GPT-3 and BERT, have revolutionalized today's NLP landscape. They have built upon the original transformer model, which performed sequence-to-sequence tasks, and are now capable of performing a wide variety of language tasks, such as text summarization and machine translation.\n",
    "\n",
    "However, while being very capable, they come with one major drawback: their size. The size of models such as BERT significantly limits their adoption because they require massive computational resources train or even perform inference.\n",
    "\n",
    "In attempt to lessen this problem, in 2019, researchers released [DistilBERT](https://arxiv.org/abs/1910.01108), which is a modified version of the [BERT](https://arxiv.org/abs/1810.04805) NLP model. DistilBERT applies parameter-reduction techniques in order to lower memory consumption and increase the training speed of BERT. This implies decreased GPU/TPU memory requirements and training times. Compared to the 110 million parameters of BERT-base model, the DistilBERT-base-uncased model has only 66 million parameters while using half the layers (6) the same number of hidden units (768).\n",
    "\n",
    "HuggingFace's `transformers` library provides an easy way to download state-of-the-art pretrained models. For our purpose, we load DistilBERT using the \"sentiment-analysis\" pipeline provided by this library."
   ]
  },
  {
   "cell_type": "markdown",
   "id": "7a830d93-87e0-4a18-9e3d-81171b510240",
   "metadata": {},
   "source": [
    "## 3.1 Loading ALBERT"
   ]
  },
  {
   "cell_type": "markdown",
   "id": "8d55fa95-06f5-4e1d-8465-1697b6c52c8d",
   "metadata": {},
   "source": [
    "In this case, we set the `TRANSFORMERS_CACHE` environment variable before importing `transformers` because we prefer the model to download to a local folder."
   ]
  },
  {
   "cell_type": "code",
   "execution_count": 12,
   "id": "bdd68833-2a5a-4226-b78d-7546ab8e8ceb",
   "metadata": {},
   "outputs": [],
   "source": [
    "import os\n",
    "\n",
    "os.environ['TRANSFORMERS_CACHE'] = 'transformers_cache/' \n",
    "\n",
    "import torch\n",
    "\n",
    "if torch.cuda.is_available():\n",
    "    device = 0\n",
    "else:\n",
    "    device = -1\n",
    "    print(\"PyTorch is unable to access CUDA installation.\")\n",
    "    \n",
    "from transformers import pipeline, AutoModelForTokenClassification, AutoTokenizer\n",
    "\n",
    "pipe = pipeline(task=\"sentiment-analysis\", model=\"distilbert-base-uncased-finetuned-sst-2-english\", device = device)"
   ]
  },
  {
   "cell_type": "code",
   "execution_count": 14,
   "id": "70ab637b-6989-4a30-b7ae-ae047364170f",
   "metadata": {},
   "outputs": [
    {
     "name": "stdout",
     "output_type": "stream",
     "text": [
      "[{'label': 'POSITIVE', 'score': 0.9977933168411255}]\n",
      "I'm committed to making a change.... Last week I came out to my wife and shared with her my struggles with substance abuse. Surprisingly she was very supportive and asked what she could do to help. I decided to hand her over all of my stash and shared that when I wanted to blaze I would let her know and she'd try to talk me out of it. I really want to change and I'm glad my wife is willing to help.\n",
      "\n",
      "Wish me luck...\n",
      "[{'label': 'NEGATIVE', 'score': 0.9993337988853455}]\n",
      "If I could use successfully forever, I would. I didn’t quit because it was the right thing to do...I quit because I took the ship as far as it could possibly go — and then some — and there was nowhere else to take it. Anyone relate?\n",
      "[{'label': 'NEGATIVE', 'score': 0.9979355335235596}]\n",
      "I'm wondering if it's a bad idea for an alcoholic to drink non-alcoholic beverages out of things like a rocks glass or a wine glass. nan\n",
      "[{'label': 'NEGATIVE', 'score': 0.9994215965270996}]\n",
      "Septum Hole Question. Throwaway. Could really use some help here.\n",
      "\n",
      "My SO has a hole in his septum from cocaine use (he's sober now and trying to recover) and this is part of his recovery process.It looks like it may or may not be possible to fix this. Does anyone here have experience with this that they can share? Should we be looking at ENT doctors or plastic surgeons?We're in California if that helps.\n",
      "[{'label': 'NEGATIVE', 'score': 0.597956657409668}]\n",
      "My sister (13) is using drugs. It says it in the title, my sister is getting hooked.  She's a freshman in highschool and shes started taking Diphenhydramine at school.  She's sneaking out of the house all the time.  I talked to our parents and her in the past about it and she lost trust in me and hasn't been telling me anything about her 'friends' or addictions lately.  Today she admitted to me that she's taking drugs.    \n",
      "I feel so powerless to help or do anything.  I honestly can't tell our mother because she struggles with depression and she already wants to run away from us, I can't add to that.  I can tell our dad, but he can't really do anything.  I don't want to push her away, I just want to keep her safe both from ruining her future with the law or the drugs themselves.\n",
      "\n",
      "If anyone has any advice I would appreciate it.  I know that diphenhydramine isn't the most serious drug out there but I do know she wants to go further.\n",
      "\n",
      "Thank you\n",
      "Too long\n",
      "[{'label': 'POSITIVE', 'score': 0.6930530071258545}]\n",
      "Anyone wants to celebrate with me?. This week I celebrate my 2 months clean from heroin and one month clean from benzos and self harm. It is not a lot of time but after years of not even seeing the possibility of being clean this finally means I'm turning my life around. I know there might be relapses and things won't always be easy but right now I love the way I live and I have no intention of going back. \n",
      "\n",
      "I wish I could throw a party and yell and tell the whole world how happy I am of this little goal but most of my friends don't even know I've been an addict, so I'll just celebrate with some internet strangers. If you guys are recovering too, from drugs, mental health conditions, or anything, I wish you the best of luck. I wish I could give a special hug to who, like me, just started this new life and is scared that anything could go wrong. Recovery is not only when you succeed to stay clean: the first and most important step is realizing what the problem is and do something to change it. \n",
      "\n",
      "Love yourself. Stay safe and stay clean ♥️\n",
      "\n",
      "Edit: thank you guys, even a little bit of random appreciation from the internet made my day! I got clean thanks to a very special person, but unfortunately he is not here to see it with his own eyes. I thought no one would tell me \"I'm proud of you\", and reading those words, even if from a stranger, almost made me cry. Thank you.\n",
      "Too long\n",
      "[{'label': 'NEGATIVE', 'score': 0.9942041039466858}]\n",
      "Clean for the longest ive ever been for 14 years but all I seem to do is sleep & dream constantly?. So started doing ket when I was just 13~14 years old been a part of my life ever since I'm currently in Thailand getting myself clean and leaning muay thai, which has been a passion of mine for years. Ket allways fucked dith my sleep some times not sleeping at all then toataly crashing after work the next day. Now I've not had any for coming up 3 weeks but all I seem to do is sleep for instance yesterday I finished traning at 10am fell asleep at 11 till 3 woke up then went for food got back to the hotel played games on my phone till about 5 was so sleepy I had a half hr nap, then had to force myself to stay awake till I could not any longer about 10pm today I woke up once at half 7 and been napping and waking up constantly. Im having crazy dreams to even when only napping for like half hr.\n",
      "[{'label': 'NEGATIVE', 'score': 0.9943554401397705}]\n",
      "Tapering with drugs other than alcohol. Is tapering really a thing amongst addicts that aren't alcoholics? I never seem to see it mentioned with opiate addicts or coke fiends. You guys just seem to tank the bulk of the WDs\n",
      "[{'label': 'NEGATIVE', 'score': 0.9989215135574341}]\n",
      "Depression. I stopped using meth and I have been depressed. I literally sleep 12 to 16 hours a day. I have been eating and eating. Thoughts if self harm have been more prominent just to release endorphins. My dealer is mia and it sucks\n",
      "[{'label': 'NEGATIVE', 'score': 0.9995742440223694}]\n",
      "1 month sober I feel much better but i dont know what to do.. I live with my parents and I have to wait 5 more months to get my license and a car(I have money being saved from working long hours) the problem is that my mom is an emotionally abusive pill addict who is sinking my childhood home into the ground. Im not sure how long this place is going to last. My dad doesnt care and doesn't do anything about it. My mom basically owns him. I was about to start school again but i dont see the point as my living situation is unreliable. I tried to get in touch with other relatives but none of them want anything to do with me because of my past drug use and the ones that i dont talk to i dont know what to say without acting like I just want something from them(which is true anyway, a place to live) I feel like im stuck amd im starying to see this as pointless like why shouldnt i just go back to drinking and drugs if im just going to have to sit idle like this. Winter is coming too so i wont be able to work as many hours at my job :( this is hopeless. I just wanna crawl into a hole and forget my existance\n",
      "[{'label': 'POSITIVE', 'score': 0.7339083552360535}]\n",
      "crackc smoke all da crack mmm. fhck. nan\n",
      "[{'label': 'NEGATIVE', 'score': 0.9987751841545105}]\n",
      "addiction.. all i want to do is sleep, eat and drink. and smoke weed. thats it. im 18 and i barely even go to my classes anymore , i dont want to see friends and i just dont want to live like this anymore. idk why im posting this, probaly just to vent.\n",
      "[{'label': 'NEGATIVE', 'score': 0.6490845680236816}]\n",
      "Two years clean today. I've never posted here before but I scroll this sub whenever I'm having a rough day, so I thought I would share my 'story.'\n",
      "\n",
      "Today makes two years for me. I never, ever, in a million years, thought I would be able to say that. Never thought I'd be strung out on heroin and cocaine either, but here we are. My trip through hell all started with a percocet and a cute boy that told me I'd really like it. To this day, I don't blame him because I made my own choices but that is where it started. Within a month of trying opiates for the first time, I was traveling out of state to buy heroin and selling it to support our habit. Life felt unreal. I felt untouchable. Until I got arrested with 200 tickets crossing state lines. \n",
      "\n",
      "I remember SO VIVIDLY the DEA agent telling me, \"Someday you will thank me. I probably saved your life.\" And he was right.  So, thank you, Tony Milligan from Maine DEA for possibly saving my life. Sorry for puking in your car. I did not get the drugs from your wife (obviously) like I said I did and you can unfuck yourself now. You did save my life.\n",
      "\n",
      "I did 14 months in prison, have 5 years hanging and 4 years probation. I have class A, B, and C felonies on my record but I wouldn't change a single thing. Because I'm alive. I'm in a healthy relationship. I don't wake up sick anymore. My first thought in conflict is no longer getting fucked up. \n",
      "\n",
      "I know there is a huge debate on incarcerating drug addicts and I 100% agree that it shouldn't be the answer in fighting addiction; but nothing else would have gotten me clean. I had tried rehabs, IOP, 12 step meetings, suboxone. My brain was sick and the only thing that gave me relief was being locked up. They say it's jails, institutions or death. Prison got me clean; plain and simple.\n",
      "\n",
      "I'm just thankful for life today. Thanks for listening.\n",
      "[{'label': 'POSITIVE', 'score': 0.9825524091720581}]\n",
      "Innteresting and useful book on how to stop drinking. Good morning and nice to e-meeting you! [https://www.amazon.com/dp/B07ZJJ2X3R/](https://www.amazon.com/dp/B07ZJJ2X3R/?fbclid=IwAR3023mhJ2qTOT3UWukDh2KSrhnpQbgNofwPG_dF_8Q56h8LuCwu_btPJSw): I wrote this book. Maybe it could give you some tips. This is not an advertising message. It is focused on helping people to recover from their addiction. For any questions, please contact me directly too.\n",
      "[{'label': 'NEGATIVE', 'score': 0.996831476688385}]\n",
      "Is it possible to go back to drinking in moderation after being addicted?. I'm wondering this because people with eating disorders and/or food addictions have to be taught to go back to a normal way of eating from their extremes bc abstinence from food isn't possible. \n",
      "Knowing this, do you think a person with alcoholism or porn addiction etc could be conditioned to use such things in moderation?\n",
      "[{'label': 'NEGATIVE', 'score': 0.998782217502594}]\n",
      "Clean for 1 day. I live in Belgium but i have a lot of family in Spain. When i was just at home everything was terrible. I lost my period because of underweight caused by all the harddrugs. I didn't have one specific thing i was addicted to, i didn't care what i took, as long as it made me feel better. It got too out of hand so i decided to go stay with my family in Spain for a while. Ive been here 1 day, and i haven't once thought about the drugs. Its so easy here but im terrified that when i go back home, ill just relapse into my old habits.\n",
      "[{'label': 'NEGATIVE', 'score': 0.9991717338562012}]\n",
      "I've gone too far down the rabbit hole........ nan\n",
      "[{'label': 'NEGATIVE', 'score': 0.9993540644645691}]\n",
      "Having a hard time staying clean. I had 7 days was hyped and when I messed up I thought of someone as a friend and they told me to not even go to NA anymore. I'm having trouble with the people places and things part. I almost died the other night and I didnt care I just kept using. What do I do? How do you stay clean?\n",
      "[{'label': 'NEGATIVE', 'score': 0.9501575231552124}]\n",
      "Overcoming addiction = overcoming ambivalence. Addiction is characterized by *ambivalence.* Ambivalence is what defines addiction. \n",
      "\n",
      "“Addiction” is when you want to **quit** intoxicating yourself and you want to **continue** intoxicating yourself at the same time. \n",
      "\n",
      "The only reason anyone can’t simply choose to quit is because part of them does not want to quit. \n",
      "\n",
      "Your struggles with addiction are OVER once you overcome the ambivalence and fully commit to a decision to quit. \n",
      "\n",
      "People don’t choose to feel ambivalent, but they can choose to overcome ambivalence by committing to a decision. \n",
      "\n",
      "Many people in the recovery community would have you believe that, as an “addict,” you are a weak, helpless baby with some sort of handicap that renders you incapable of committing yourself to a decision to do what is best for yourself, and your life, and your family, and your community, in the long run. \n",
      "\n",
      "I don’t think these people are helping anyone stay sober. Their message is a disempowering falsehood. I don’t think these people are helping anyone overcome ambivalence. \n",
      "\n",
      "Don’t listen to those people. You **can** fully commit to sobriety.\n",
      "[{'label': 'NEGATIVE', 'score': 0.9668406248092651}]\n",
      "Adderall Withdrawal - Feel guilty not being productive, any tips?. So I have been taking something to \"escape\" for years (probably around opiate addiction or earlier). Quit opiates many years ago, then went back and forth with Kratom, then a few years ago took Adderall and liked how productive I became (and how it took my mind off my negative thinking). I never got too crazy with it (never skipped sleeping or anything like that) but because it only worked for 2 hours or so I would have to take extra doses sometimes.\n",
      "\n",
      "Last couple of years I've been realizing how much time I'm wasting thinking/looking for \"crutches\" all the time instead of just enjoying the moment. It is a repeating pattern of using a crutch, feeling better, realizing I shouldn't be using something, trying to quit, taking a few days off, then starting up again. It's hard to stop fully since some days my mind keeps telling myself \"man it's so nice outside, how much nicer would it be if you could stop worrying about stuff also, just take some kratom or some adderall, etc\".\n",
      "\n",
      "Anyways recently I've stopped everything for the greater part of 17 days or so (I slipped maybe 3 days out of that 17 days where I took a low dosage of Adderall). I notice the biggest trigger is just feeling so unproductive, then feeling guilty about being unproductive, then feeling like maybe just today I should take something so I can be more productive, etc. I take something, get a lot done, happy about that, then feel guilty that I broke my streak. I'm self-employed so being at home it's easy to ride it out, but also easy to feel lazy. Then sometimes feel like maybe overthinking and taking some periodically is fine. I don't know just wanted to see if others experience anything like this and how they deal with it? If it makes a difference I even stopped drinking caffeine (aside from just green tea or something) to try and eliminate that as a crutch also.\n",
      "\n",
      "&#x200B;\n",
      "\n",
      "TLDR: when quitting drugs (in this instance Adderall) does anyone feel unproductive and guilty about it, and how do you deal with it?\n",
      "[{'label': 'NEGATIVE', 'score': 0.9872069954872131}]\n",
      "Junkfood Addiction. When you gotten rid of all addictions. Then the Junkfood addiction kicks in.\n",
      "\n",
      "How to break out of the cycle of replacing a addiction with another addiction.\n",
      "[{'label': 'NEGATIVE', 'score': 0.9993027448654175}]\n",
      "I know what to do. But I don't know what to do. This binge has been a fair bit heavier than normal. I'm a fucking idiot for binging at all... shouldn't have picked up the bottle when I'm starting a new job so soon. I desperately want to be clean and dry for this new job but drunk me doesn't care and sober me gets terrified of people asking why his hands are trembling and also of the heart rate complications mixed with landscaping in the summer in Australia. So my resting heart rate will be like 410bpm cause it's hot as balls and I'm withdrawing. I should just ask the rehab place I already go to for counseling what to do but I've been talking myself out of that. (They already detoxed you a few months ago, they'll recognize you and judge you or worse, refuse meds to ease withdrawls cause I'm an idiot for binging so hard so soon after... I dunno, just my brain talking me into stating drunk I guess) I feel so damn stuck this time. The anxiettttyyyyyyyyy!!!!! Constantly thinking, all the time. Just shut up, shut my head up, please... anyway it's 1am and I've woken up feeling like human trash so I'm drowning this whole bottle of wine and seeing if I can sleep till at least 6am, fuck, heart burn is back. Let me grab a mylanta. What do I do reddit? Talk me into fixing myself.\n",
      "Too long\n",
      "[{'label': 'NEGATIVE', 'score': 0.9523979425430298}]\n",
      "Those who have been/are addicted to drugs, what do you think of pill testing?. Several countries have introduced pill testing and numerous others are experimenting.\n",
      "\n",
      "There are pros and cons to this practice and the debate seems to be dominated by religious groups, recreational drugs users, the music industry and health workers.\n",
      "\n",
      "I have yet to hear from people with a history of drug addiction.\n",
      "[{'label': 'NEGATIVE', 'score': 0.8938516974449158}]\n",
      "Just came clean about my opiate use.. At the risk of losing everything I came clean. I told my better half everything. How often I used. Who enabled me to use. My triggers everything. It was one of the hardest things to do. But i need to do this for myself and my kids deserve to have someone not spending hundreds on pills or wake up to a dead father. I'll be going on the steps to recovery and try to follow it the best I can. Truth is I'm scared. As would anyone in this situation and I'm afraid to fuck this up again. But I guess I took the first step by admitting everything and my use and setting up recovery with family. I caused alot of harm and I'm not sure she will ever love me again the same. I've come to terms with this. But she has agreed to help me recover. I hope this is a good thing for me and I hope I can make it one day to the next. Been a couple days now but man I'm scared.\n",
      "Too long\n",
      "[{'label': 'NEGATIVE', 'score': 0.9854571223258972}]\n",
      "Going to my first NA meeting tonight.. Any advice?. I'm nervous. \n",
      "\n",
      "I'm on day 12 of my quit and after telling the people closest to me, one of family members insisted on taking me to a meeting. I'm going to try it out, but I'm not sure if it is for me. I don't believe in god, so I'm nervous after reading the steps and seeing there is a lot of \"god talk.\" \n",
      "\n",
      "Any advice would be greatly appreciated.\n",
      "[{'label': 'NEGATIVE', 'score': 0.9949742555618286}]\n",
      "I can’t stop living this nightmare (Rant, advice very welcome). I have just recently been brought to terms with the fact that I am an addict. Most days I hold myself over by smoking weed all day. Once weed is not enough, drinking is next, effectively numbing all the pain from the previous days of suffering. But once the craving comes, it hits like a train, and weed or alcohol will not do it for me. I need cocaine. I need it now. I need it 10 minutes ago. I shouldn’t. Who cares? No, I don’t want to lose my progress. No, I’ll start tomorrow.\n",
      "Each substance has a separate “special” place in my heart...or should I say brain. Each is a vice of its own in its own way. Regardless of what I am using, I’m using.\n",
      "I just woke up for the day, still drunk and throwing up from last night. Oh last night. The night that I smoked all of my weed in a feeble attempt to hold myself over. The night that I drank all the alcohol I had because I couldn’t find a way to cope. The night when my boyfriend flushed all of my cocaine down the toilet and I sobbed uncontrollably for an hour straight.\n",
      "And now today, a new day. A day free of any substances in my house. A day where I am faced with the decision to “reup”, and retreat back to my toxic cycle of substance abuse, or let this be my “new beginning”, and take the events of last night as a blessing.\n",
      "I can’t keep living this way. Always either sick, shitfaced, or both....I am scared for my job. I am scared for my boyfriend. I am scared for my home. I am scared for myself. I do not know what to do or where to begin. I do not know how to cope or fight withdrawal. I do now know how to function or be happy (or me) when sober.\n",
      "If you have gotten this far, thank you for your read\n",
      "[{'label': 'NEGATIVE', 'score': 0.99836665391922}]\n",
      "Not sure what to do anymore. I am addicted to cocaine. I’ve been using for about 10 years now, since college, and I’m at a point where when I get on a binge I can’t stop. I push the people I’m with to keep doing it so I can have someone with me, I’m not alone, we both are doing this bad thing and talking and connecting until ridiculous hours of the morning. I should go to NA, do anything to stop because everyone around me fucking does it and I don’t know what to do anymore. I hate myself and I’m embarrassed and I’m tired of trying to hide it.\n",
      "[{'label': 'POSITIVE', 'score': 0.5256711840629578}]\n",
      "First time on K-Hole. Three weeks ago, I’ve done Ketamine & ecstasy. Once it’s turn I feel sad & shit. After I sleep for 6hr my brain are supper great after that I don’t feel like back to it again. My question is, will these drug take me back like others addiction ?\n",
      "[{'label': 'NEGATIVE', 'score': 0.99886155128479}]\n",
      "Leaving an addict boyfriend. My boyfriend of a year and I broke up today. I'm really upset, this isn't what I wanted to happen.  He's addicted to cocaine.  He's spiraling out of control.  I feel like I let him down and that I gave up on him.  I feel a sense of guilt for leaving him but I couldn't be his scapegoat anymore.  I still want to be with him and I know that if he told me to go back I would. He said he doesn't want anything to do with me. That we're done and done for good.  \n",
      "\n",
      "He was paranoid af. And would tell me that I'm doing this guy or doing something other than what I told him I was doing. He'd call me a liar, a thief. He'd say all these awful things about me, to me.  But if he told me to come back I would.   \n",
      "\n",
      "He's blocked me on everything. He doesn't have a phone so I can't contact him at all.  I know it's for the best.   I know in time I'll feel better about my choice to leave. But today right now I feel like shit. I'm so heartbroken.  \n",
      "\n",
      "Any similar stories would be appreciated. Any advice and maybe some tough love? I need it\n",
      "[{'label': 'NEGATIVE', 'score': 0.9978393316268921}]\n",
      "Roomate (19M) is doing drugs again, what should I do?. Me (20F) and my boyfriend (19M) are living together with his childhood friend (19M) in a 52m² apparment. Roomate is doing drugs, being inconsiderate and immature but there is no way he will ever change. What should we do? and what can I do? (20F)\n",
      "\n",
      "About 2 months ago me, my boyfriend and his friend moved out to a new city on the other side of the country. About a month before we were gonna move, my boyfriend found out that his friend was taking drugs. Both of us got very anxious and hesitant towards him but we desided to talk to him and give him a chance. My boyfriend had a talk with him saying \"Both of use are worried about you and we both are very much against drug use. We really don't want you to bring this habbit to our new home\", His friend replied with \"My parents found out that a was doing drugs yesterday, im never gonna do that s\\*\\*t again, I promise\". So here we are 3 months later, he never does laundry, dishes or helps us with anything. Yesterday our roomate brought home a mutual friend of my boyfriend. During the night while I was gonna go to the bathroom it smelled worse than usual from his room that went out to the hall. Today while the roomate went out with a friend my boyfriend went in to his room and found drugs in his desktop drawer. We really find the roomate inconsiderate and immature but the rent is way high without his part and in our contract it's a 3 months notice before moving out. Trying to find our own place is really hard but it's even harder if you are alone in this city.\n",
      "[{'label': 'NEGATIVE', 'score': 0.9973055124282837}]\n",
      "detox options help PLZ. okay i need to detox off of opiates & meth and i feel like the detox center im hoping to find/do what i’m looking for could possibly be a fantasy.... \n",
      "\n",
      "BUT im most curious to see if anyone knows if i went to an emergency room and told them i was detoxing (and possibly pregnant) if they would do anything for me. i have insurance to cover literally any treatment, but if i show up like that can they deny me treatment and send me elsewhere? or would they possibly keep me to monitor me/administer any necessary medications. kinda seems like a stretch now that i say it but LET ME KNOW if anyone has done this. plz n thank u\n",
      "[{'label': 'NEGATIVE', 'score': 0.9356261491775513}]\n",
      "I need Help..... Please only serious replies... I have been ever since grade 5 addicted to pornography, I’ve ever since become more engulfed by this horrible addiction I’ve developed. Recently I finally got a gf, I want to stop with the pornography, so I can finally feel like I’m actually dedicated to her... help\n",
      "[{'label': 'NEGATIVE', 'score': 0.9956877827644348}]\n",
      "Day 5 sober. Sade 5 I've been having a really bad toothache for a while. I went to the ER for some shots help with the pain and just been kind of doing the best I can. I found the owner to the dog that I was lost and they gave me $20 for finding him bought some food with that so so far it's a rough battle but I'm getting through my bank all the sprays that I have\n",
      "[{'label': 'NEGATIVE', 'score': 0.9973737001419067}]\n",
      "Society view. Why is it so hard for society to understand that addiction is a disease and not a choice. Addiction is caused because of trauma,sexual abuse,ptsd,child abuse,abandonent,some seek acceptance from parents and start to use with them, list goes on. The goal is to help the addict heal from the past so they no longer use. Then it becomes a choice of finding themselves and healing from the past. I had 2 addict parents it was all I knew growing up. How is that a choice i didnt choose them? I currently am sober a year. About to start school for addiction counseling.\n",
      "[{'label': 'NEGATIVE', 'score': 0.975451648235321}]\n",
      "[Academic] Experiences of loneliness, shame and guilt in people who gamble (18+ of any gender). If you are 18 years and over and have a couple of minutes to spare, please take the time to contribute to my research study focusing on gambling! \n",
      "\n",
      "  \n",
      "The research aims at examining the relationships between gambling behaviour, self-conscious emotion experience (feelings of shame and guilt), loneliness (as both personality traits and emotional state experiences) and social withdrawal.\n",
      "\n",
      "  \n",
      "To find out more and to begin the survey, please click on this link: [https://www.surveygizmo.com/s3/5055415/Gambling](https://www.surveygizmo.com/s3/5055415/Gambling)\n",
      "[{'label': 'NEGATIVE', 'score': 0.9992069602012634}]\n",
      "Worried about a friend. How do I bring up that im worried and help show him his habit are out of control?\n",
      "\n",
      "My friend, 25m, lost his emt job when he failed a drug test. He lost his serving job because he wasn't showing up on time, he is now free basing crack off tinfoil and sleeping all day. \n",
      "\n",
      "His usage is out of control. Hes walking around with tinfoil and crack every 5 to 10 minutes at home. He refuses to get a pipe because he believes that's what separates him from an addict. \n",
      "\n",
      "Hes a good guy. Hes having trouble and his environment is a house full of servers who party all the time. His girlfriend lives with him and she also partakes. He told me people say they're worried but I asked if they talk to him when hes using or dont bring drugs around him. He didnt answer. \n",
      "\n",
      "How can I be of help to him?\n",
      "Too long\n",
      "[{'label': 'POSITIVE', 'score': 0.9874911308288574}]\n",
      "Today I am 3 months sober & it feels amazing!. This is the first time I’ve had 90 consecutive days of sobriety in over a decade. I’m still recovering mentally and physically from the years of abuse I’ve done to myself with alcohol, but I already feel so much better and clearheaded.\n",
      "\n",
      "After 8 times of going through withdrawals (including having seizures and almost dying), fucking up my life and car, and being near losing my job, I finally realized that I needed help. I went to 33 days of inpatient treatment from June to July, got out and relapsed being back at home, went BACK to inpatient for 11 days, and moved into sober living. Now I’m at 3 months and I’m getting my health, personality, mind, and life back.\n",
      "\n",
      "So very thankful and grateful that I got into treatment in time, have supportive family & friends, a job, a place to live, and my dignity back. \n",
      "\n",
      "Fuck alcohol/drugs and the devastating hold they have on addicts. Be supportive of others and kind to yourself during this difficult process. Remember: progress, not perfection.\n",
      "\n",
      "Have a great day and keep going. You deserve it. \n",
      "[medallion collection](https://imgur.com/gallery/39VtGW9)\n",
      "Too long\n",
      "[{'label': 'POSITIVE', 'score': 0.9938593506813049}]\n",
      "Looking for recommendations for drug and alcohol recovery centers on the West Coast or Midwest - although would consider other locations. Would prefer places not rigid /12 steps but open to hearing about good experiences.. nan\n",
      "[{'label': 'NEGATIVE', 'score': 0.9990358352661133}]\n",
      "Every single time I drink, or 8/9 times out of 10. I threat suicide, then get terrible negative thoughts.. When I consumed alcohol last night my thinking was quite positive during the drinks (had 8x236ml cans of 6% molson canadian cold shots).  \n",
      "\n",
      "It was still quite positive or atleast neutral emotions.\n",
      "\n",
      "However about an hour or so later. \n",
      "\n",
      "I got negative thoughts that were so unnecessary. \n",
      "\n",
      "I began recalling dumb and irrelevant stuff. \n",
      "\n",
      "This was Mid-Mays Pattern. \n",
      "\n",
      "In April of 2019, I exceeded the entire month without alcohol from March 28 until May 3 booze free. \n",
      "\n",
      "After Friday May 3rd. The Week of May 6-12 was terrible! I was drinking to excess everyday. \n",
      "\n",
      "I drank no less than six and up to about 10 drinks per day. \n",
      "\n",
      "Also get this. \n",
      "\n",
      "I exceeded 5 weeks zero alcohol, I drank 26oz of 15% alc (About 6.5 alcohol units) in about half an hour and felt abosutely nothing at all. \n",
      "\n",
      "Then in August I also gave up smoking weed for two weeks. while still about 15 drinks each week. \n",
      "\n",
      "I had three beers and was buzzing heavy. \n",
      "\n",
      "My depression was gone, but the anxiety skyrocketed. \n",
      "\n",
      "When I drink to access. It is backwards. \n",
      "\n",
      "No anxiety were I could stand on the top of the Eiffel tower and not feel anxious. \n",
      "\n",
      "But depression destorts my logic and rationale.\n",
      "\n",
      "And it is very nearly entirely due to drinking.\n",
      "[{'label': 'NEGATIVE', 'score': 0.6657248735427856}]\n",
      "What actually pushes one into true desire for recovery. This is my second time around in the recovery process. The first time, I lost everything. My house, car, job, son (not legally thank God), money, and had some bad shit happen to me. I'd had enough, and put myself into treatment, went directly into Oxford housing for over 3 years. I accomplished so much, and was truly happy. \n",
      "\n",
      "I had moved out continuing to be successful and happy. About 4 ½ years later (after my clean date), I go back out again. I used for about 2 months, and of course I knew where this was headed, and made arrangements with my job to go get clean. I'm in the process of doing so right now. \n",
      "\n",
      "I am having an incredibly difficult time wanting to actually quit. Like, I know what I am supposed to do. Go to meetings, get a sponsor, eat right, exercise, find healthy activities/friends, even consider clean and sober living if necessary ect..., but I don't have the desire I had the first time. I have been asking myself over and over what the deal is for days.\n",
      "\n",
      "Right now, I have my job, my son is safe and has not witnessed any of this, I have paychecks still getting deposited, have money in the bank, still have my house and car, can pay my bills, and still have the love of my life next to me. \n",
      "\n",
      "The only thing I can think of, is that clearly this time I am in a different position than I was last time. I haven't lost it all or hit rock bottom per se. I tried to catch it early. I hated meetings from the get. I hated it all, the step work, sponsor, all that stuff. I have my reasons, but in my gut I loathe the thought of forcing myself to do any of this. I will have to at least hit meetings. \n",
      "\n",
      "So, I guess my question is: has anyone had a harder time wanting true sobriety without losing it all? Anyone been in this sort of situation? \n",
      "\n",
      "I appreciate anyone sharing their stories or any thoughts. \n",
      "\n",
      "Thanks you!\n",
      "[{'label': 'NEGATIVE', 'score': 0.9953924417495728}]\n",
      "I am an addict. So after my therapy session I have decided I am going to be sober. I am an addict I have been for years slowly progressing, and I have bee\n",
      "n using meth. I convinced myself I could control it and use it short term to make a plan to \" fix\" my depression.  I know I cant control it and it's not destroying my life but it will one day so might as well stop while I'm ahead.\n",
      "\n",
      "What made you decide to stop using? How long have you been sober?\n",
      "[{'label': 'NEGATIVE', 'score': 0.9945034980773926}]\n",
      "Do you integrate blackout behavior into your sense of self or your personality?. I have such a hard time visualizing some of the things people have said I’ve done. I don’t doubt what they say. I just get curious about who the hell was that person and what must I have been like just before? Like I have a hard time visualizing whether when blackout I can barely speak, or I’m mostly fine but kind of forgetful. If it’s the former, okay. If it’s the latter, what kind of information is black out behavior?\n",
      "[{'label': 'NEGATIVE', 'score': 0.9996293783187866}]\n",
      "How long does it take to feel normal after meth addiction?. About how long did it take you for your motor skills/emotions to go back to normal after meth addiction? I used it for 2 years. I have maybe a month and a half sober from meth. I feel like it's hard for me to remember things, have conversations, or just feel normal emotions. Will this be permanent?\n",
      "[{'label': 'NEGATIVE', 'score': 0.9555724263191223}]\n",
      "Anybody up to start a WhatsApp support group?. Hi All\n",
      "\n",
      "I am  an alcohol and marijuana addict living in a sort of remote-ish small town without any nearby AA groups and as you can imagine trying to recover and getting support can take a toll on friends and family that don't quite understand what's going on so I figured I'd ask on here if anyone is up to start a WhatsApp group where we could have a group chat and share our stories and help each other cope.\n",
      "\n",
      "We could do scheduled chats or just use it as a resource when one of us is having a difficult time and needs to talk it out or vent. \n",
      "\n",
      "Interested to hear thoughts on this and if you're interested, **PM me** with your **name** and **WhatsApp number** if you're down and hey, maybe we can make the next 67 days of this year count for something.\n",
      "[{'label': 'NEGATIVE', 'score': 0.9530277252197266}]\n",
      "Drugs Vs. Alcohol. Im slowly on my way to full recovery. I was addicted to Percocets after multiple foot and ankle surgeries. I kicked that when I was 19. I now struggle with Kratom and Valium.\n",
      "\n",
      "What do you think it says about a person that loves drugs, but hates alcohol? I hate it. I hate the feeling of being drunk. I hate the taste. The smell. I hate feeling naseous.\n",
      "\n",
      "I will be high as a kite on Codeine, but one sip of alcohol, and I feel like I have to throw up. Before turning 21, I feared that I would end up an alcoholic. I feel a sense of gratitude that Im such a baby when it comes to alcohol.\n",
      "\n",
      "Why am I so addicted to drugs, but hate alcohol?\n",
      "[{'label': 'NEGATIVE', 'score': 0.9991487264633179}]\n",
      "Does it help?. Would it be beneficial or fun for an addict to help their partner quit a bad habit? I won’t get into details but there’s something I want to stop, — I’m curious if he’s trying to quit XYZ, do you suppose it would be useful to aid in my desire to curb my habit too?\n"
     ]
    },
    {
     "ename": "KeyboardInterrupt",
     "evalue": "",
     "output_type": "error",
     "traceback": [
      "\u001b[0;31m---------------------------------------------------------------------------\u001b[0m",
      "\u001b[0;31mKeyboardInterrupt\u001b[0m                         Traceback (most recent call last)",
      "\u001b[0;32m/tmp/ipykernel_7263/1123006142.py\u001b[0m in \u001b[0;36m<module>\u001b[0;34m\u001b[0m\n\u001b[1;32m     10\u001b[0m \u001b[0;34m\u001b[0m\u001b[0m\n\u001b[1;32m     11\u001b[0m \u001b[0mdata_gen\u001b[0m \u001b[0;34m=\u001b[0m \u001b[0mdata\u001b[0m\u001b[0;34m(\u001b[0m\u001b[0;34m)\u001b[0m\u001b[0;34m\u001b[0m\u001b[0;34m\u001b[0m\u001b[0m\n\u001b[0;32m---> 12\u001b[0;31m \u001b[0;32mfor\u001b[0m \u001b[0me\u001b[0m \u001b[0;32min\u001b[0m \u001b[0mdata_gen\u001b[0m\u001b[0;34m:\u001b[0m\u001b[0;34m\u001b[0m\u001b[0;34m\u001b[0m\u001b[0m\n\u001b[0m\u001b[1;32m     13\u001b[0m     \u001b[0;32mtry\u001b[0m\u001b[0;34m:\u001b[0m\u001b[0;34m\u001b[0m\u001b[0;34m\u001b[0m\u001b[0m\n\u001b[1;32m     14\u001b[0m         \u001b[0mresults_dict\u001b[0m \u001b[0;34m=\u001b[0m \u001b[0mpipe\u001b[0m\u001b[0;34m(\u001b[0m\u001b[0me\u001b[0m\u001b[0;34m)\u001b[0m\u001b[0;34m\u001b[0m\u001b[0;34m\u001b[0m\u001b[0m\n",
      "\u001b[0;32m/tmp/ipykernel_7263/1123006142.py\u001b[0m in \u001b[0;36mdata\u001b[0;34m()\u001b[0m\n\u001b[1;32m      7\u001b[0m             \u001b[0;32mfor\u001b[0m \u001b[0mindex\u001b[0m\u001b[0;34m,\u001b[0m \u001b[0mrow\u001b[0m \u001b[0;32min\u001b[0m \u001b[0mdf\u001b[0m\u001b[0;34m.\u001b[0m\u001b[0miterrows\u001b[0m\u001b[0;34m(\u001b[0m\u001b[0;34m)\u001b[0m\u001b[0;34m:\u001b[0m\u001b[0;34m\u001b[0m\u001b[0;34m\u001b[0m\u001b[0m\n\u001b[1;32m      8\u001b[0m                 \u001b[0;32myield\u001b[0m \u001b[0;34mf'{row[\"Title\"]}. {row[\"Body\"]}'\u001b[0m\u001b[0;34m\u001b[0m\u001b[0;34m\u001b[0m\u001b[0m\n\u001b[0;32m----> 9\u001b[0;31m                 \u001b[0mtime\u001b[0m\u001b[0;34m.\u001b[0m\u001b[0msleep\u001b[0m\u001b[0;34m(\u001b[0m\u001b[0;36m1\u001b[0m\u001b[0;34m)\u001b[0m\u001b[0;34m\u001b[0m\u001b[0;34m\u001b[0m\u001b[0m\n\u001b[0m\u001b[1;32m     10\u001b[0m \u001b[0;34m\u001b[0m\u001b[0m\n\u001b[1;32m     11\u001b[0m \u001b[0mdata_gen\u001b[0m \u001b[0;34m=\u001b[0m \u001b[0mdata\u001b[0m\u001b[0;34m(\u001b[0m\u001b[0;34m)\u001b[0m\u001b[0;34m\u001b[0m\u001b[0;34m\u001b[0m\u001b[0m\n",
      "\u001b[0;31mKeyboardInterrupt\u001b[0m: "
     ]
    }
   ],
   "source": [
    "def data():\n",
    "    for subreddit in subreddits: \n",
    "        dates = list()\n",
    "        for date in iter_months(start_year, start_month, end_year, end_month): \n",
    "            score_list = list()\n",
    "            df = pd.read_csv(f'data/{subreddit}/{subreddit}_{date[\"year\"]}-{date[\"month\"]}.csv')\n",
    "            for index, row in df.iterrows():\n",
    "                yield f'{row[\"Title\"]}. {row[\"Body\"]}'\n",
    "                time.sleep(1)\n",
    "\n",
    "data_gen = data()\n",
    "for e in data_gen:\n",
    "    try:\n",
    "        results_dict = pipe(e)\n",
    "        print(pipe(e))\n",
    "        print(e)\n",
    "    except RuntimeError:\n",
    "        print(\"Too long\")\n"
   ]
  },
  {
   "cell_type": "code",
   "execution_count": null,
   "id": "b70b76a7-efb0-44b5-93c4-86619c9fc846",
   "metadata": {},
   "outputs": [],
   "source": []
  }
 ],
 "metadata": {
  "kernelspec": {
   "display_name": "Python 3 (ipykernel)",
   "language": "python",
   "name": "python3"
  },
  "language_info": {
   "codemirror_mode": {
    "name": "ipython",
    "version": 3
   },
   "file_extension": ".py",
   "mimetype": "text/x-python",
   "name": "python",
   "nbconvert_exporter": "python",
   "pygments_lexer": "ipython3",
   "version": "3.8.10"
  }
 },
 "nbformat": 4,
 "nbformat_minor": 5
}
