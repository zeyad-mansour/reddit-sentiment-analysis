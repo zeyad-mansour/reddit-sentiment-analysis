{
 "cells": [
  {
   "cell_type": "markdown",
   "id": "da6fa3fb-389a-4879-a756-389e64959609",
   "metadata": {
    "jp-MarkdownHeadingCollapsed": true,
    "tags": []
   },
   "source": [
    "<center>\n",
    "<h1>\n",
    "Analyzing the Sentiment of Online Substance Abuse Support Groups During the\n",
    "COVID-19 Pandemic via Natural Language Processing\n",
    "</h1>   \n",
    "<h5> \n",
    "<a href=\"https://www.google.com\">Read the paper</a>\n",
    "</h5>\n",
    "</center>"
   ]
  },
  {
   "cell_type": "markdown",
   "id": "c23592c0-3b76-4b46-b197-81bc6aa84f2c",
   "metadata": {},
   "source": [
    "# 1 Scraping / Data Collection"
   ]
  },
  {
   "cell_type": "markdown",
   "id": "154395f0-dd0c-4795-b658-0dcffcd32776",
   "metadata": {
    "tags": []
   },
   "source": [
    "## 1.1 Installing dependencies and importing those for scraping"
   ]
  },
  {
   "cell_type": "markdown",
   "id": "8b3df9bc-0315-4ca3-a217-e8cdcb7b5f99",
   "metadata": {},
   "source": [
    "<p> Although not shown here, it is recommended that the following packages are installed in a conda virtual environment. The jupyter kernel also must be installed in the environment. </p>"
   ]
  },
  {
   "cell_type": "code",
   "execution_count": 32,
   "id": "93b5eb0c-4f96-41bf-9777-4333196138c3",
   "metadata": {},
   "outputs": [
    {
     "name": "stdout",
     "output_type": "stream",
     "text": [
      "Looking in links: https://download.pytorch.org/whl/cu113\n",
      "Requirement already satisfied: matplotlib in /home/zeyad/.local/lib/python3.8/site-packages (from -r requirements.txt (line 1)) (3.5.1)\n",
      "Requirement already satisfied: nltk in /home/zeyad/.local/lib/python3.8/site-packages (from -r requirements.txt (line 2)) (3.5)\n",
      "Requirement already satisfied: pandas in /home/zeyad/.local/lib/python3.8/site-packages (from -r requirements.txt (line 3)) (1.3.2)\n",
      "Requirement already satisfied: praw in /home/zeyad/.local/lib/python3.8/site-packages (from -r requirements.txt (line 4)) (7.5.0)\n",
      "Requirement already satisfied: psaw in /home/zeyad/.local/lib/python3.8/site-packages (from -r requirements.txt (line 5)) (0.1.0)\n",
      "Requirement already satisfied: scipy in /home/zeyad/.local/lib/python3.8/site-packages (from -r requirements.txt (line 6)) (1.8.0)\n",
      "Requirement already satisfied: torch in /home/zeyad/.local/lib/python3.8/site-packages (from -r requirements.txt (line 9)) (1.11.0+cu113)\n",
      "Requirement already satisfied: torchvision in /home/zeyad/.local/lib/python3.8/site-packages (from -r requirements.txt (line 10)) (0.12.0+cu113)\n",
      "Requirement already satisfied: torchaudio in /home/zeyad/.local/lib/python3.8/site-packages (from -r requirements.txt (line 11)) (0.11.0+cu113)\n",
      "Requirement already satisfied: transformers in /home/zeyad/.local/lib/python3.8/site-packages (from -r requirements.txt (line 13)) (4.17.0)\n",
      "Requirement already satisfied: packaging>=20.0 in /home/zeyad/.local/lib/python3.8/site-packages (from matplotlib->-r requirements.txt (line 1)) (21.0)\n",
      "Requirement already satisfied: pillow>=6.2.0 in /home/zeyad/.local/lib/python3.8/site-packages (from matplotlib->-r requirements.txt (line 1)) (9.0.1)\n",
      "Requirement already satisfied: fonttools>=4.22.0 in /home/zeyad/.local/lib/python3.8/site-packages (from matplotlib->-r requirements.txt (line 1)) (4.29.1)\n",
      "Requirement already satisfied: numpy>=1.17 in /home/zeyad/.local/lib/python3.8/site-packages (from matplotlib->-r requirements.txt (line 1)) (1.22.3)\n",
      "Requirement already satisfied: cycler>=0.10 in /home/zeyad/.local/lib/python3.8/site-packages (from matplotlib->-r requirements.txt (line 1)) (0.11.0)\n",
      "Requirement already satisfied: pyparsing>=2.2.1 in /home/zeyad/.local/lib/python3.8/site-packages (from matplotlib->-r requirements.txt (line 1)) (2.4.7)\n",
      "Requirement already satisfied: python-dateutil>=2.7 in /home/zeyad/.local/lib/python3.8/site-packages (from matplotlib->-r requirements.txt (line 1)) (2.8.2)\n",
      "Requirement already satisfied: kiwisolver>=1.0.1 in /home/zeyad/.local/lib/python3.8/site-packages (from matplotlib->-r requirements.txt (line 1)) (1.3.2)\n",
      "Requirement already satisfied: click in /home/zeyad/.local/lib/python3.8/site-packages (from nltk->-r requirements.txt (line 2)) (7.1.2)\n",
      "Requirement already satisfied: tqdm in /home/zeyad/.local/lib/python3.8/site-packages (from nltk->-r requirements.txt (line 2)) (4.62.2)\n",
      "Requirement already satisfied: regex in /home/zeyad/.local/lib/python3.8/site-packages (from nltk->-r requirements.txt (line 2)) (2021.8.28)\n",
      "Requirement already satisfied: joblib in /home/zeyad/.local/lib/python3.8/site-packages (from nltk->-r requirements.txt (line 2)) (1.0.1)\n",
      "Requirement already satisfied: pytz>=2017.3 in /home/zeyad/.local/lib/python3.8/site-packages (from pandas->-r requirements.txt (line 3)) (2021.3)\n",
      "Requirement already satisfied: websocket-client>=0.54.0 in /home/zeyad/.local/lib/python3.8/site-packages (from praw->-r requirements.txt (line 4)) (1.3.2)\n",
      "Requirement already satisfied: prawcore<3,>=2.1 in /home/zeyad/.local/lib/python3.8/site-packages (from praw->-r requirements.txt (line 4)) (2.3.0)\n",
      "Requirement already satisfied: update-checker>=0.18 in /home/zeyad/.local/lib/python3.8/site-packages (from praw->-r requirements.txt (line 4)) (0.18.0)\n",
      "Requirement already satisfied: requests in /home/zeyad/.local/lib/python3.8/site-packages (from psaw->-r requirements.txt (line 5)) (2.25.1)\n",
      "Requirement already satisfied: typing-extensions in /home/zeyad/.local/lib/python3.8/site-packages (from torch->-r requirements.txt (line 9)) (4.1.1)\n",
      "Requirement already satisfied: pyyaml>=5.1 in /usr/lib/python3/dist-packages (from transformers->-r requirements.txt (line 13)) (5.3.1)\n",
      "Requirement already satisfied: huggingface-hub<1.0,>=0.1.0 in /home/zeyad/.local/lib/python3.8/site-packages (from transformers->-r requirements.txt (line 13)) (0.4.0)\n",
      "Requirement already satisfied: filelock in /home/zeyad/.local/lib/python3.8/site-packages (from transformers->-r requirements.txt (line 13)) (3.0.12)\n",
      "Requirement already satisfied: sacremoses in /home/zeyad/.local/lib/python3.8/site-packages (from transformers->-r requirements.txt (line 13)) (0.0.49)\n",
      "Requirement already satisfied: tokenizers!=0.11.3,>=0.11.1 in /home/zeyad/.local/lib/python3.8/site-packages (from transformers->-r requirements.txt (line 13)) (0.11.6)\n",
      "Requirement already satisfied: six>=1.5 in /home/zeyad/.local/lib/python3.8/site-packages (from python-dateutil>=2.7->matplotlib->-r requirements.txt (line 1)) (1.15.0)\n",
      "Requirement already satisfied: certifi>=2017.4.17 in /home/zeyad/.local/lib/python3.8/site-packages (from requests->psaw->-r requirements.txt (line 5)) (2021.10.8)\n",
      "Requirement already satisfied: chardet<5,>=3.0.2 in /home/zeyad/.local/lib/python3.8/site-packages (from requests->psaw->-r requirements.txt (line 5)) (4.0.0)\n",
      "Requirement already satisfied: urllib3<1.27,>=1.21.1 in /home/zeyad/.local/lib/python3.8/site-packages (from requests->psaw->-r requirements.txt (line 5)) (1.26.9)\n",
      "Requirement already satisfied: idna<3,>=2.5 in /home/zeyad/.local/lib/python3.8/site-packages (from requests->psaw->-r requirements.txt (line 5)) (2.10)\n"
     ]
    }
   ],
   "source": [
    "!pip install -r requirements.txt"
   ]
  },
  {
   "cell_type": "markdown",
   "id": "5c86dfd4-2c32-4dfa-9150-7a09b88aab4f",
   "metadata": {},
   "source": [
    "<hr>\n",
    "PSAW (the Python PushShift API Wrapper) allows us to obtain historical posts, whereas PRAW does not have this functionality. PushShift is a third-party service that scrapes Reddit to provide \"enhanced functionality and search capabilities for searching Reddit comments and submissions.\" Their API is intended research purposes.\n",
    "\n",
    "PRAW (the Python Reddit API Wrapper) allows us to obtain the current \"score\" of a post, which is the total number of upvotes minus the total number of downvotes. Because PushShift scrapes posts only once (shortly after they are posted), the reported score is usually very low, as it is only accurate at the time they were scraped. Although PSAW lacks this functionality, it can be used in conjunction with PRAW, which solves this problem."
   ]
  },
  {
   "cell_type": "code",
   "execution_count": 22,
   "id": "ed42f5a5-a6dc-43da-b4cd-d8932f9fb910",
   "metadata": {},
   "outputs": [
    {
     "name": "stderr",
     "output_type": "stream",
     "text": [
      "[nltk_data] Downloading package stopwords to /home/zeyad/nltk_data...\n",
      "[nltk_data]   Package stopwords is already up-to-date!\n",
      "[nltk_data] Downloading package punkt to /home/zeyad/nltk_data...\n",
      "[nltk_data]   Package punkt is already up-to-date!\n"
     ]
    }
   ],
   "source": [
    "from calendar import monthrange\n",
    "from collections import Counter\n",
    "\n",
    "# the datetime object allows for easy chronological organization of the dataframe \n",
    "from datetime import datetime\n",
    "import json\n",
    "\n",
    "import nltk\n",
    "nltk.download('stopwords')\n",
    "nltk.download('punkt')\n",
    "\n",
    "from nltk.corpus import stopwords\n",
    "import matplotlib.pyplot as plt\n",
    "import numpy as np\n",
    "import os\n",
    "\n",
    "# the data retrieved from the API is stored in a pandas dataframe\n",
    "import pandas as pd\n",
    "\n",
    "# python wrapper for the official reddit api\n",
    "import praw \n",
    "\n",
    "# python wrapper for the pushshift api\n",
    "from psaw import PushshiftAPI \n",
    "\n",
    "import random\n",
    "import statistics\n",
    "import sys\n",
    "import time"
   ]
  },
  {
   "cell_type": "markdown",
   "id": "a10a871b-801c-4114-9e12-7e51e1022e44",
   "metadata": {
    "tags": []
   },
   "source": [
    "## 1.2 Authenticating with the Reddit API "
   ]
  },
  {
   "cell_type": "markdown",
   "id": "ea9cefcd-7371-4d3e-9fef-6926c289d857",
   "metadata": {},
   "source": [
    "In order to use the Reddit API, one must apply to be granted access for use with their account. After agreeing with the ToS, one can apply [here](https://docs.google.com/forms/d/e/1FAIpQLSezNdDNK1-P8mspSbmtC2r86Ee9ZRbC66u929cG2GX0T9UMyw/viewform).\n",
    "Then, we can authenticate with PRAW with the credentials that we provide in the [client_secrets.json](client_secrets.jsonclient_secrets.jsonclient_secrets.json) file."
   ]
  },
  {
   "cell_type": "code",
   "execution_count": 23,
   "id": "9094927d-0ccf-494c-9112-6b10e3d649f0",
   "metadata": {},
   "outputs": [],
   "source": [
    "# client_secrets.json file must be created to contain credentials\n",
    "# ex_client_secrets.json contains the example credentials format\n",
    "f = open('client_secrets.json') \n",
    " \n",
    "client_secrets = json.load(f)\n",
    "\n",
    "r = praw.Reddit(client_id=client_secrets[\"client_id\"],\n",
    "    client_secret=client_secrets[\"client_secret\"],\n",
    "    username=client_secrets[\"username\"],\n",
    "    password=client_secrets[\"password\"],\n",
    "    user_agent=client_secrets[\"user_agent\"]\n",
    ")\n",
    "\n",
    "api = PushshiftAPI(r)"
   ]
  },
  {
   "cell_type": "markdown",
   "id": "8b3a9d6b-9e10-4646-9da9-41149d26c402",
   "metadata": {},
   "source": [
    "## 1.3 Scraping via Requests to the API "
   ]
  },
  {
   "cell_type": "markdown",
   "id": "ea1ffc08-cf7a-45c7-b504-214a48d1a10d",
   "metadata": {},
   "source": [
    "We define a list of the subreddits that we want to scrape, and initialize the appropriate time interval variables."
   ]
  },
  {
   "cell_type": "code",
   "execution_count": 24,
   "id": "71eb3383-45bb-4723-9102-24d345a3bce0",
   "metadata": {},
   "outputs": [],
   "source": [
    "subreddits = [\"addiction\", \"alcoholism\", \"benzorecovery\", \"leaves\", \"OpiatesRecovery\", \"quittingkratom\", \n",
    "              \"QuittingPhenibut\", \"redditorsinrecovery\",  \"StopDrinking\", \"StopSmoking\", \"StopSpeeding\"]  \n",
    "start_year = 2019\n",
    "start_month = 10\n",
    "end_year = 2022\n",
    "end_month = 2"
   ]
  },
  {
   "cell_type": "markdown",
   "id": "71d882b6-c7aa-4bc2-978a-41da8909944b",
   "metadata": {},
   "source": [
    "The following cell contains helper functions for future steps."
   ]
  },
  {
   "cell_type": "code",
   "execution_count": 25,
   "id": "fa0cd7ec-b343-4f04-a285-13aa37518692",
   "metadata": {},
   "outputs": [],
   "source": [
    "def save_posts_by_month(subreddit, year, month, limit=100000):\n",
    "    ''' \n",
    "    Scrapes and saves all posts from the specified subreddit to a CSV file\n",
    "    given a particular month in the \"year-month\" format\n",
    "    '''\n",
    "    num_days = monthrange(year, month)[1]\n",
    "    after=int(datetime(year, month, 1).timestamp())\n",
    "    before=int(datetime(year, month, num_days).timestamp()) \n",
    "    print(f\"Scraping posts from /r/{subreddit} [{year}, {month}]...\")\n",
    "    gen = api.search_submissions(after=after, before=before, subreddit=subreddit, limit=limit)\n",
    "    post_list = []\n",
    "    for e in gen:\n",
    "        submission = r.submission(e)\n",
    "        post_list.append({\"Date\": datetime.fromtimestamp(submission.created_utc), \"URL\": submission.url, \"Title\": submission.title, \"Body\": submission.selftext, \"Score\": submission.score})\n",
    "        \n",
    "    df = pd.DataFrame(post_list)\n",
    "    df.to_csv(f\"data/{subreddit}/{subreddit}_{year}-{month}.csv\", index = False, header = True)\n",
    "    \n",
    "def iter_months(start_year, start_month, end_year, end_month):\n",
    "    ''' \n",
    "    Yields the dates of months in the \"year-month\" format given time interval \n",
    "    '''   \n",
    "    while (start_year == end_year and start_month <= end_month) or (start_year < end_year):\n",
    "        if start_month < 12:\n",
    "            yield {\"year\":start_year, \"month\":start_month}\n",
    "            start_month += 1\n",
    "        else:\n",
    "            yield {\"year\":start_year, \"month\":start_month}\n",
    "            start_year += 1\n",
    "            start_month = 1"
   ]
  },
  {
   "cell_type": "markdown",
   "id": "d817c523-83ba-44ac-bd13-cd909148d5ae",
   "metadata": {},
   "source": [
    "We want to be able to permanently store the data that we scrape for future analysis. \n",
    "\n",
    "The scraping process can be lengthly due to rate limiting, and storing the data we get from the API in memory is bad practice when considering the likelihood of an unexpected crash. Therefore, for each subreddit, after each month of posts we scrape, we save the pandas dataframe to the disk (in the .csv file format)."
   ]
  },
  {
   "cell_type": "code",
   "execution_count": 26,
   "id": "3ec49066-c813-4802-9fd4-0e089c56870b",
   "metadata": {},
   "outputs": [
    {
     "name": "stdout",
     "output_type": "stream",
     "text": [
      "11 subreddits selected\n",
      "Directory 'data' already exists\n",
      "Directory 'data/addiction' already exists\n",
      "Directory 'data/alcoholism' already exists\n",
      "Directory 'data/benzorecovery' already exists\n",
      "Directory 'data/leaves' already exists\n",
      "Directory 'data/OpiatesRecovery' already exists\n",
      "Directory 'data/quittingkratom' already exists\n",
      "Directory 'data/QuittingPhenibut' already exists\n",
      "Directory 'data/redditorsinrecovery' already exists\n",
      "Directory 'data/StopDrinking' already exists\n",
      "Directory 'data/StopSmoking' already exists\n",
      "Directory 'data/StopSpeeding' already exists\n"
     ]
    }
   ],
   "source": [
    "def scrape_posts(subreddits, start_year, start_month, end_year, end_month):\n",
    "    print(f\"{len(subreddits)} subreddits selected\")\n",
    "\n",
    "    datadir = 'data'\n",
    "    try:\n",
    "        os.mkdir('data')\n",
    "        print(f\"Directory '{datadir}' was created\") \n",
    "    except FileExistsError:\n",
    "        print(f\"Directory '{datadir}' already exists\")\n",
    "        \n",
    "    for subreddit in subreddits:\n",
    "        datadir = f\"data/{subreddit}\"\n",
    "        try:\n",
    "            os.mkdir(datadir)\n",
    "            print(f\"Directory '{datadir}' was created\") \n",
    "        except FileExistsError:\n",
    "            print(f\"Directory '{datadir}' already exists\")\n",
    "            continue\n",
    "            \n",
    "        for date in iter_months(start_year, start_month, end_year, end_month):\n",
    "            save_posts_by_month(subreddit, date[\"year\"], date[\"month\"])\n",
    "       \n",
    "\n",
    "scrape_posts(subreddits, start_year, start_month, end_year, end_month)"
   ]
  },
  {
   "cell_type": "markdown",
   "id": "cf3fe399-f521-4c34-a30d-1fc3d532cd25",
   "metadata": {},
   "source": [
    "## 1.4 Preprocessing Data and Downsampling"
   ]
  },
  {
   "cell_type": "markdown",
   "id": "b2cc8acf-f059-4fe9-b77d-0e44bce9a8e8",
   "metadata": {},
   "source": [
    "Posts that were deleted, or contain little to no data, are still part of our data. We want to remove these from our dataset. To do this, we search each post for the keywords \"deleted\" or \"removed\" and remove those posts."
   ]
  },
  {
   "cell_type": "code",
   "execution_count": 33,
   "id": "e923464a-3c4d-4954-bfad-2835c2622f0a",
   "metadata": {},
   "outputs": [
    {
     "name": "stdout",
     "output_type": "stream",
     "text": [
      "Finished removing the posts that were either deleted or removed.\n"
     ]
    }
   ],
   "source": [
    "#Delete the posts that were either deleted or removed\n",
    "deleted_keywords = [\"deleted\", \"removed\"]\n",
    "\n",
    "for subreddit in subreddits: \n",
    "    for date in iter_months(start_year, start_month, end_year, end_month): \n",
    "        filename = f'data/{subreddit}/{subreddit}_{date[\"year\"]}-{date[\"month\"]}.csv'\n",
    "        indicies_to_delete = list()\n",
    "        df = pd.read_csv(filename) \n",
    "        for index, row in df.iterrows():\n",
    "            for e in deleted_keywords:\n",
    "                if e in str(row[\"Title\"]) or e in str(row[\"Body\"]):\n",
    "                    indicies_to_delete.append(index)\n",
    "                    \n",
    "        df = df.drop(labels=indicies_to_delete, axis=0)\n",
    "        df = df.reset_index()\n",
    "        df = df.drop(labels=\"index\", axis=1)\n",
    "        df.to_csv(filename, index=False)\n",
    "\n",
    "print(\"Finished removing the posts that were either deleted or removed.\")"
   ]
  },
  {
   "cell_type": "markdown",
   "id": "a728ab5b-01b1-4978-bc94-542b90b397f7",
   "metadata": {},
   "source": [
    "Now, we have our data stored via .csv files. We can load this in a pandas dataframe to look at the data collected over the course of one month for a subreddit."
   ]
  },
  {
   "cell_type": "code",
   "execution_count": 36,
   "id": "dd8e9209-5e0e-42f1-a11d-e1d26d3ad716",
   "metadata": {},
   "outputs": [
    {
     "name": "stdout",
     "output_type": "stream",
     "text": [
      "data/addiction/addiction_2019-10.csv\n"
     ]
    },
    {
     "data": {
      "text/html": [
       "<div>\n",
       "<style scoped>\n",
       "    .dataframe tbody tr th:only-of-type {\n",
       "        vertical-align: middle;\n",
       "    }\n",
       "\n",
       "    .dataframe tbody tr th {\n",
       "        vertical-align: top;\n",
       "    }\n",
       "\n",
       "    .dataframe thead th {\n",
       "        text-align: right;\n",
       "    }\n",
       "</style>\n",
       "<table border=\"1\" class=\"dataframe\">\n",
       "  <thead>\n",
       "    <tr style=\"text-align: right;\">\n",
       "      <th></th>\n",
       "      <th>Date</th>\n",
       "      <th>URL</th>\n",
       "      <th>Title</th>\n",
       "      <th>Body</th>\n",
       "      <th>Score</th>\n",
       "    </tr>\n",
       "  </thead>\n",
       "  <tbody>\n",
       "    <tr>\n",
       "      <th>0</th>\n",
       "      <td>2019-10-30 22:35:14</td>\n",
       "      <td>https://www.reddit.com/r/addiction/comments/dp...</td>\n",
       "      <td>I'm committed to making a change...</td>\n",
       "      <td>Last week I came out to my wife and shared wit...</td>\n",
       "      <td>5</td>\n",
       "    </tr>\n",
       "    <tr>\n",
       "      <th>1</th>\n",
       "      <td>2019-10-30 22:16:46</td>\n",
       "      <td>https://www.reddit.com/r/addiction/comments/dp...</td>\n",
       "      <td>If I could use successfully forever, I would</td>\n",
       "      <td>I didn’t quit because it was the right thing t...</td>\n",
       "      <td>1</td>\n",
       "    </tr>\n",
       "    <tr>\n",
       "      <th>2</th>\n",
       "      <td>2019-10-30 19:04:33</td>\n",
       "      <td>https://www.reddit.com/r/addiction/comments/dp...</td>\n",
       "      <td>I'm wondering if it's a bad idea for an alcoho...</td>\n",
       "      <td>NaN</td>\n",
       "      <td>2</td>\n",
       "    </tr>\n",
       "    <tr>\n",
       "      <th>3</th>\n",
       "      <td>2019-10-30 18:35:13</td>\n",
       "      <td>https://www.reddit.com/r/addiction/comments/dp...</td>\n",
       "      <td>Septum Hole Question</td>\n",
       "      <td>Throwaway. Could really use some help here.\\n\\...</td>\n",
       "      <td>1</td>\n",
       "    </tr>\n",
       "    <tr>\n",
       "      <th>4</th>\n",
       "      <td>2019-10-30 14:57:27</td>\n",
       "      <td>https://www.reddit.com/r/addiction/comments/dp...</td>\n",
       "      <td>My sister (13) is using drugs</td>\n",
       "      <td>It says it in the title, my sister is getting ...</td>\n",
       "      <td>1</td>\n",
       "    </tr>\n",
       "    <tr>\n",
       "      <th>...</th>\n",
       "      <td>...</td>\n",
       "      <td>...</td>\n",
       "      <td>...</td>\n",
       "      <td>...</td>\n",
       "      <td>...</td>\n",
       "    </tr>\n",
       "    <tr>\n",
       "      <th>277</th>\n",
       "      <td>2019-10-01 09:39:39</td>\n",
       "      <td>https://www.reddit.com/r/addiction/comments/db...</td>\n",
       "      <td>Day 2 sober</td>\n",
       "      <td>Yesterday was my first day sober in years I fe...</td>\n",
       "      <td>4</td>\n",
       "    </tr>\n",
       "    <tr>\n",
       "      <th>278</th>\n",
       "      <td>2019-10-01 09:00:43</td>\n",
       "      <td>https://www.reddit.com/r/addiction/comments/db...</td>\n",
       "      <td>Leading to a habit or just being a pig ?</td>\n",
       "      <td>Last few months I’ve been hitting speed or mdm...</td>\n",
       "      <td>2</td>\n",
       "    </tr>\n",
       "    <tr>\n",
       "      <th>279</th>\n",
       "      <td>2019-10-01 06:14:51</td>\n",
       "      <td>https://www.reddit.com/r/addiction/comments/db...</td>\n",
       "      <td>110 days sober until today</td>\n",
       "      <td>Stress. Idk what to say. Thought I had it this...</td>\n",
       "      <td>11</td>\n",
       "    </tr>\n",
       "    <tr>\n",
       "      <th>280</th>\n",
       "      <td>2019-10-01 02:16:04</td>\n",
       "      <td>https://www.reddit.com/r/cocaine/comments/dbmn...</td>\n",
       "      <td>Today I shot up WAY too much cocaine and I got...</td>\n",
       "      <td>NaN</td>\n",
       "      <td>2</td>\n",
       "    </tr>\n",
       "    <tr>\n",
       "      <th>281</th>\n",
       "      <td>2019-10-01 00:20:55</td>\n",
       "      <td>https://www.reddit.com/r/addiction/comments/db...</td>\n",
       "      <td>Interested in Inpatient facilities / success s...</td>\n",
       "      <td>I am looking into inpatient facilities to atte...</td>\n",
       "      <td>1</td>\n",
       "    </tr>\n",
       "  </tbody>\n",
       "</table>\n",
       "<p>282 rows × 5 columns</p>\n",
       "</div>"
      ],
      "text/plain": [
       "                    Date                                                URL  \\\n",
       "0    2019-10-30 22:35:14  https://www.reddit.com/r/addiction/comments/dp...   \n",
       "1    2019-10-30 22:16:46  https://www.reddit.com/r/addiction/comments/dp...   \n",
       "2    2019-10-30 19:04:33  https://www.reddit.com/r/addiction/comments/dp...   \n",
       "3    2019-10-30 18:35:13  https://www.reddit.com/r/addiction/comments/dp...   \n",
       "4    2019-10-30 14:57:27  https://www.reddit.com/r/addiction/comments/dp...   \n",
       "..                   ...                                                ...   \n",
       "277  2019-10-01 09:39:39  https://www.reddit.com/r/addiction/comments/db...   \n",
       "278  2019-10-01 09:00:43  https://www.reddit.com/r/addiction/comments/db...   \n",
       "279  2019-10-01 06:14:51  https://www.reddit.com/r/addiction/comments/db...   \n",
       "280  2019-10-01 02:16:04  https://www.reddit.com/r/cocaine/comments/dbmn...   \n",
       "281  2019-10-01 00:20:55  https://www.reddit.com/r/addiction/comments/db...   \n",
       "\n",
       "                                                 Title  \\\n",
       "0                  I'm committed to making a change...   \n",
       "1         If I could use successfully forever, I would   \n",
       "2    I'm wondering if it's a bad idea for an alcoho...   \n",
       "3                                 Septum Hole Question   \n",
       "4                        My sister (13) is using drugs   \n",
       "..                                                 ...   \n",
       "277                                        Day 2 sober   \n",
       "278           Leading to a habit or just being a pig ?   \n",
       "279                         110 days sober until today   \n",
       "280  Today I shot up WAY too much cocaine and I got...   \n",
       "281  Interested in Inpatient facilities / success s...   \n",
       "\n",
       "                                                  Body  Score  \n",
       "0    Last week I came out to my wife and shared wit...      5  \n",
       "1    I didn’t quit because it was the right thing t...      1  \n",
       "2                                                  NaN      2  \n",
       "3    Throwaway. Could really use some help here.\\n\\...      1  \n",
       "4    It says it in the title, my sister is getting ...      1  \n",
       "..                                                 ...    ...  \n",
       "277  Yesterday was my first day sober in years I fe...      4  \n",
       "278  Last few months I’ve been hitting speed or mdm...      2  \n",
       "279  Stress. Idk what to say. Thought I had it this...     11  \n",
       "280                                                NaN      2  \n",
       "281  I am looking into inpatient facilities to atte...      1  \n",
       "\n",
       "[282 rows x 5 columns]"
      ]
     },
     "metadata": {},
     "output_type": "display_data"
    }
   ],
   "source": [
    "filename = f'data/{subreddits[0]}/{subreddits[0]}_{start_year}-{start_month}.csv'\n",
    "df = pd.read_csv(filename) \n",
    "print(filename)\n",
    "display(df)"
   ]
  },
  {
   "cell_type": "markdown",
   "id": "80e450bf-91ab-48f8-b4de-928d2a05eadd",
   "metadata": {},
   "source": [
    "<hr>\n",
    "\n",
    "# 2 Trend Analysis"
   ]
  },
  {
   "cell_type": "markdown",
   "id": "5527fd87-5e93-497c-b10e-aa7267f5fabf",
   "metadata": {},
   "source": [
    "Here, we do some exploratory analysis."
   ]
  },
  {
   "cell_type": "code",
   "execution_count": 31,
   "id": "a45bf9cb-eb13-4542-bfab-4e1f9d3be0db",
   "metadata": {},
   "outputs": [
    {
     "data": {
      "image/png": "[encoded data removed]",
      "text/plain": [
       "<Figure size 640x480 with 1 Axes>"
      ]
     },
     "metadata": {},
     "output_type": "display_data"
    }
   ],
   "source": [
    "plt.style.use('default')\n",
    "\n",
    "#Only plot one subreddit since this is for demonstration\n",
    "for subreddit in [\"addiction\"]: \n",
    "    dates = list()\n",
    "    scores_stat = list()\n",
    "    for date in iter_months(start_year, start_month, end_year, end_month): \n",
    "        score_list = list()\n",
    "        df = pd.read_csv(f'data/{subreddit}/{subreddit}_{date[\"year\"]}-{date[\"month\"]}.csv')\n",
    "        for index, row in df.iterrows():\n",
    "            score_list.append(row[\"Score\"])\n",
    "        scores_stat.append(sum(score_list))\n",
    "        dates.append(f'{date[\"year\"]}-{date[\"month\"]}')             \n",
    "    x = dates\n",
    "    y = scores_stat\n",
    "    plt.xticks(rotation=90)\n",
    "    plt.xlabel('Date')\n",
    "    plt.ylabel('Total Upvote Score')\n",
    "    plt.title(f'Total Upvote Score of /r/{subreddit}')\n",
    "    plt.ylim(ymin=0, ymax = max(y)*1.5)\n",
    "    plt.plot(x, y, color='black');\n",
    "    plt.show()"
   ]
  },
  {
   "cell_type": "code",
   "execution_count": 30,
   "id": "c006d148-e0d1-4874-a07a-74687da77429",
   "metadata": {},
   "outputs": [
    {
     "data": {
      "image/png": "[encoded data removed]",
      "text/plain": [
       "<Figure size 432x288 with 1 Axes>"
      ]
     },
     "metadata": {
      "needs_background": "light"
     },
     "output_type": "display_data"
    }
   ],
   "source": [
    "stopwords_set = stopwords.words('english')\n",
    "\n",
    "def wordBarGraph(df,column,title):\n",
    "    topic_words = [ z.lower() for y in\n",
    "                       [ x.split() for x in df[column] if isinstance(x, str)]\n",
    "                       for z in y]\n",
    "    word_count_dict = dict(Counter(topic_words))\n",
    "    popular_words = sorted(word_count_dict, key = word_count_dict.get, reverse = True)\n",
    "    popular_words_nonstop = [w for w in popular_words if w not in stopwords_set and w.isalnum()]\n",
    "    plt.barh(range(20), [word_count_dict[w] for w in reversed(popular_words_nonstop[0:20])])\n",
    "    plt.yticks([x + 0.5 for x in range(20)], reversed(popular_words_nonstop[0:20]))\n",
    "    plt.title(title)\n",
    "    plt.show()\n",
    "    \n",
    "#Only plot one subreddit since this is for demonstration    \n",
    "for subreddit in [\"addiction\"]: \n",
    "    #Only plot one month since this is for demonstration\n",
    "    for date in iter_months(start_year, start_month, start_year, start_month): \n",
    "        df = pd.read_csv(f'data/{subreddit}/{subreddit}_{date[\"year\"]}-{date[\"month\"]}.csv')\n",
    "        plt.figure()\n",
    "        wordBarGraph(df,'Title',f\"Popular Words in /r/{subreddit} during {date['year']}-{date['month']}\")"
   ]
  },
  {
   "cell_type": "markdown",
   "id": "59e9d682-2942-4ce0-b75c-c394e4be5602",
   "metadata": {},
   "source": [
    "We define a list of COVID-19 related tokens to see how mention of COVID-19 has varied overtime."
   ]
  },
  {
   "cell_type": "code",
   "execution_count": 37,
   "id": "4cfe1954-c885-4d81-9ad1-bdda019a56db",
   "metadata": {},
   "outputs": [],
   "source": [
    "#TODO"
   ]
  },
  {
   "cell_type": "markdown",
   "id": "37fd3917-bbf7-445d-9ae2-4499b172273f",
   "metadata": {
    "tags": []
   },
   "source": [
    "<hr>\n",
    "\n",
    "# 3 Sentiment Analysis and Classification"
   ]
  },
  {
   "cell_type": "markdown",
   "id": "725bffee-aea6-405f-82bc-d1c0f0e3bbdd",
   "metadata": {},
   "source": [
    "Transformer models, such as GPT-3 and BERT, have revolutionalized today's NLP landscape. They have built upon the original Transformer model, which performed sequence-to-sequence tasks, and are now capable of performing a wide variety of language tasks, such as text summarization and machine translation.\n",
    "\n",
    "However, while being very capable, they come with one major drawback: they are huge. The size of models like BERT significantly limits their adoption, because they cannot be run on normal machines and require massive GPU resources to even get them running properly.\n",
    "\n",
    "\n",
    "In attempt to mitigate this problem, in 2019, Google Researchers released ALBERT. ALBERT stands for \"A Lite BERT\" and is a modified version of the BERT NLP model. ALBERT applies parameter-reduction techniques in order to lower memory consumption and increase the training speed of BERT. This implies decreased GPU/TPU memory requirements and training times. Compared to the 110 million parameters of BERT-base model, the ALBERT-base model has only 12 million parameters while using the same number of layers and 768 hidden units.\n",
    "\n",
    "HuggingFace's python transformers library provides APIs to download state-of-the-art pretrained models. Each Transformers architecture is defined in a standalone Python module so they can be easily customized for research and experiments. We will be using ALBERT from this library to perform sentiment analysis."
   ]
  },
  {
   "cell_type": "code",
   "execution_count": null,
   "id": "bdd68833-2a5a-4226-b78d-7546ab8e8ceb",
   "metadata": {},
   "outputs": [],
   "source": [
    "import os\n",
    "\n",
    "os.environ['TRANSFORMERS_CACHE'] = 'transformers_cache/' \n",
    "\n",
    "import torch\n",
    "from transformers import AlbertTokenizer, AlbertModel"
   ]
  },
  {
   "cell_type": "code",
   "execution_count": null,
   "id": "9c503c73-bb65-4025-81d2-c2ce542361f0",
   "metadata": {},
   "outputs": [],
   "source": [
    "tokenizer = AlbertTokenizer.from_pretrained(\"albert-base-v2\")\n",
    "model = AlbertModel.from_pretrained(\"albert-base-v2\")\n",
    "\n",
    "inputs = tokenizer(\"Hello, my dog is cute\", return_tensors=\"pt\")\n",
    "outputs = model(**inputs)\n",
    "\n",
    "last_hidden_states = outputs.last_hidden_state"
   ]
  },
  {
   "cell_type": "code",
   "execution_count": null,
   "id": "a38cb03e-3651-4956-a440-04bcdaf57b75",
   "metadata": {},
   "outputs": [],
   "source": []
  }
 ],
 "metadata": {
  "kernelspec": {
   "display_name": "Python 3 (ipykernel)",
   "language": "python",
   "name": "python3"
  },
  "language_info": {
   "codemirror_mode": {
    "name": "ipython",
    "version": 3
   },
   "file_extension": ".py",
   "mimetype": "text/x-python",
   "name": "python",
   "nbconvert_exporter": "python",
   "pygments_lexer": "ipython3",
   "version": "3.8.10"
  }
 },
 "nbformat": 4,
 "nbformat_minor": 5
}
